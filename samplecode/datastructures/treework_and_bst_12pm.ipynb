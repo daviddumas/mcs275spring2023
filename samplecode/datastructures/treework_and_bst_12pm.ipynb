{
 "cells": [
  {
   "cell_type": "markdown",
   "id": "a1698014",
   "metadata": {},
   "source": [
    "# Tree node dev/test notebook\n",
    "\n",
    "Used in Lecture 16.  In the future this code will move into the module `trees` (`trees.py`)."
   ]
  },
  {
   "cell_type": "code",
   "execution_count": 1,
   "id": "7cc83348",
   "metadata": {},
   "outputs": [],
   "source": [
    "class Node:\n",
    "    \"Node in a binary tree\"\n",
    "    def __init__(self,key=None,left=None,right=None,parent=None):\n",
    "        \"\"\"\n",
    "        Initialize a binary tree node with left child `left` and right\n",
    "        child `right`\n",
    "        \"\"\"\n",
    "        self.key = key\n",
    "        self.left = left\n",
    "        self.right = right\n",
    "        \n",
    "        # NEW\n",
    "        self.parent = parent\n",
    "        \n",
    "    def __str__(self):\n",
    "        \"Human-readable string representation\"\n",
    "        return \"<{}>\".format(self.key)\n",
    "    def __repr__(self):\n",
    "        \"Unambiguous string representation\"\n",
    "        return str(self)\n",
    "    \n",
    "    def set_left(self, other):\n",
    "        \"Make node `other` the left child of this one\"\n",
    "        self.left = other\n",
    "        other.parent = self\n",
    "        \n",
    "    \n",
    "    def set_right(self, other):\n",
    "        \"Make node `other` the right child of this one\"\n",
    "        self.right = other\n",
    "        other.parent = self"
   ]
  },
  {
   "cell_type": "code",
   "execution_count": 2,
   "id": "a222dbf2",
   "metadata": {},
   "outputs": [],
   "source": [
    "B = Node(\"Blue\")\n",
    "P = Node(\"Pink\")"
   ]
  },
  {
   "cell_type": "code",
   "execution_count": 3,
   "id": "25706439",
   "metadata": {},
   "outputs": [],
   "source": [
    "K = Node(\"Black\",left=B,right=P)"
   ]
  },
  {
   "cell_type": "code",
   "execution_count": 4,
   "id": "5106e204",
   "metadata": {},
   "outputs": [
    {
     "data": {
      "text/plain": [
       "<Blue>"
      ]
     },
     "execution_count": 4,
     "metadata": {},
     "output_type": "execute_result"
    }
   ],
   "source": [
    "B"
   ]
  },
  {
   "cell_type": "code",
   "execution_count": 5,
   "id": "e629adf0",
   "metadata": {},
   "outputs": [
    {
     "name": "stdout",
     "output_type": "stream",
     "text": [
      "The left child of the root node <Black> is <Blue>\n",
      "The right child of the root node <Black> is <Pink>\n"
     ]
    }
   ],
   "source": [
    "print(\"The left child of the root node\",K,\"is\",K.left)\n",
    "print(\"The right child of the root node\",K,\"is\",K.right)"
   ]
  },
  {
   "cell_type": "code",
   "execution_count": 6,
   "id": "71f9c137",
   "metadata": {},
   "outputs": [
    {
     "data": {
      "text/plain": [
       "'Black'"
      ]
     },
     "execution_count": 6,
     "metadata": {},
     "output_type": "execute_result"
    }
   ],
   "source": [
    "K.key"
   ]
  },
  {
   "cell_type": "code",
   "execution_count": 7,
   "id": "b9eda7c0",
   "metadata": {},
   "outputs": [
    {
     "data": {
      "text/plain": [
       "'Blue'"
      ]
     },
     "execution_count": 7,
     "metadata": {},
     "output_type": "execute_result"
    }
   ],
   "source": [
    "K.left.key"
   ]
  },
  {
   "cell_type": "markdown",
   "id": "97b96dc4",
   "metadata": {},
   "source": [
    "## Wednesday 22$^{\\text{nd}}%$ February\n",
    "\n",
    "Used in lecture 17 in the 12PM session with Johnny.\n",
    "\n",
    "Functionality for parents was also added to the `Node` class above."
   ]
  },
  {
   "cell_type": "code",
   "execution_count": 8,
   "id": "0660b15e",
   "metadata": {},
   "outputs": [
    {
     "name": "stdout",
     "output_type": "stream",
     "text": [
      "   <Black>\n",
      "\n",
      "<Blue> <Pink>\n",
      "\n"
     ]
    }
   ],
   "source": [
    "import treevis\n",
    "\n",
    "treevis.treeprint(K)"
   ]
  },
  {
   "cell_type": "code",
   "execution_count": 9,
   "id": "2f4b9cf7",
   "metadata": {},
   "outputs": [],
   "source": [
    "class BST(Node):\n",
    "    \"\"\"Binary search tree class (with recursive insert, search)\"\"\"\n",
    "    \n",
    "    def search(self, k):\n",
    "        \"\"\"\n",
    "        Find a node in this tree with key `k` and return it;\n",
    "        return None if no such node exists.\n",
    "        \"\"\"\n",
    "        if self.key == None:\n",
    "            return None\n",
    "        if self.key == k:\n",
    "            return self\n",
    "        \n",
    "        elif k <= self.key:\n",
    "            \n",
    "            # Case when k should be on the left\n",
    "            if self.left == None:\n",
    "                return None\n",
    "            else:\n",
    "                return self.left.search(k)\n",
    "            \n",
    "        else:\n",
    "            \n",
    "            # Case when k should be on the right\n",
    "            if self.right == None:\n",
    "                return None\n",
    "            else:\n",
    "                return self.right.search(k)\n",
    "    \n",
    "    def insert(self, k):\n",
    "        \"\"\"\n",
    "        Find a suitable place to add a new node to this BST\n",
    "        with key `k`, and add it.\n",
    "        \"\"\"\n",
    "        if self.key is None:\n",
    "            # Empty tree, so just add k as the key of this node\n",
    "            self.key = k\n",
    "            \n",
    "        elif k <= self.key:\n",
    "            \n",
    "            if self.left == None: # No left child\n",
    "                self.set_left( BST(key=k) )\n",
    "            else: # Left child exists\n",
    "                self.left.insert(k)\n",
    "\n",
    "        else:\n",
    "\n",
    "            if self.right == None:\n",
    "                self.set_right(BST(key=k))\n",
    "            else:\n",
    "                self.right.insert(k)"
   ]
  },
  {
   "cell_type": "code",
   "execution_count": 10,
   "id": "e394145d",
   "metadata": {},
   "outputs": [
    {
     "name": "stdout",
     "output_type": "stream",
     "text": [
      "                              <56>\n",
      "\n",
      "\n",
      "              <21>                            <60>\n",
      "\n",
      "      <13>            <39>            <58>            <72>\n",
      "\n",
      "  <11>    <20>     .       .      <57>    <59>    <70>    <80>\n",
      "\n",
      "<6>  .   .   .   .   .   .   .   .   .   .   .   .   .   .   .\n",
      "\n"
     ]
    }
   ],
   "source": [
    "# Create the BST from the slides of lecture 17\n",
    "\n",
    "T = BST(56)\n",
    "T.insert(21)\n",
    "T.insert(60)\n",
    "T.insert(13)\n",
    "T.insert(39)\n",
    "T.insert(58)\n",
    "T.insert(72)\n",
    "T.insert(11)\n",
    "T.insert(20)\n",
    "T.insert(57)\n",
    "T.insert(59)\n",
    "T.insert(70)\n",
    "T.insert(80)\n",
    "T.insert(6)\n",
    "\n",
    "treevis.treeprint(T)"
   ]
  },
  {
   "cell_type": "code",
   "execution_count": 11,
   "id": "1a716de5",
   "metadata": {},
   "outputs": [
    {
     "name": "stdout",
     "output_type": "stream",
     "text": [
      "<59>\n"
     ]
    }
   ],
   "source": [
    "# Should return the BST node with key 59\n",
    "print(T.search(59))"
   ]
  },
  {
   "cell_type": "code",
   "execution_count": 12,
   "id": "aafdc537",
   "metadata": {},
   "outputs": [
    {
     "name": "stdout",
     "output_type": "stream",
     "text": [
      "None\n"
     ]
    }
   ],
   "source": [
    "# Should return None\n",
    "print(T.search(100000))"
   ]
  },
  {
   "cell_type": "code",
   "execution_count": null,
   "id": "39ad03c4",
   "metadata": {},
   "outputs": [],
   "source": []
  }
 ],
 "metadata": {
  "kernelspec": {
   "display_name": "Python 3 (ipykernel)",
   "language": "python",
   "name": "python3"
  },
  "language_info": {
   "codemirror_mode": {
    "name": "ipython",
    "version": 3
   },
   "file_extension": ".py",
   "mimetype": "text/x-python",
   "name": "python",
   "nbconvert_exporter": "python",
   "pygments_lexer": "ipython3",
   "version": "3.8.12"
  }
 },
 "nbformat": 4,
 "nbformat_minor": 5
}
