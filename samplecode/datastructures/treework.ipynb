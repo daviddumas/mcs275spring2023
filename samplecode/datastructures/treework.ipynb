{
 "cells": [
  {
   "cell_type": "markdown",
   "id": "a1698014",
   "metadata": {},
   "source": [
    "# Tree node dev/test notebook\n",
    "\n",
    "Used in Lecture 16.  In the future this code will move into the module `trees` (`trees.py`)."
   ]
  },
  {
   "cell_type": "code",
   "execution_count": 1,
   "id": "7cc83348",
   "metadata": {},
   "outputs": [],
   "source": [
    "class Node:\n",
    "    \"Node in a binary tree\"\n",
    "    def __init__(self,key=None,left=None,right=None):\n",
    "        \"\"\"\n",
    "        Initialize a binary tree node with left child `left` and right\n",
    "        child `right`\n",
    "        \"\"\"\n",
    "        self.key = key\n",
    "        self.left = left\n",
    "        self.right = right\n",
    "    def __str__(self):\n",
    "        \"Human-readable string representation\"\n",
    "        return \"<{}>\".format(self.key)\n",
    "    def __repr__(self):\n",
    "        \"Unambiguous string representation\"\n",
    "        return str(self)"
   ]
  },
  {
   "cell_type": "code",
   "execution_count": 2,
   "id": "a222dbf2",
   "metadata": {},
   "outputs": [],
   "source": [
    "B = Node(\"Blue\")\n",
    "P = Node(\"Pink\")"
   ]
  },
  {
   "cell_type": "code",
   "execution_count": 4,
   "id": "25706439",
   "metadata": {},
   "outputs": [],
   "source": [
    "K = Node(\"Black\",left=B,right=P)"
   ]
  },
  {
   "cell_type": "code",
   "execution_count": 6,
   "id": "5106e204",
   "metadata": {},
   "outputs": [
    {
     "data": {
      "text/plain": [
       "<Blue>"
      ]
     },
     "execution_count": 6,
     "metadata": {},
     "output_type": "execute_result"
    }
   ],
   "source": [
    "B"
   ]
  },
  {
   "cell_type": "code",
   "execution_count": 9,
   "id": "e629adf0",
   "metadata": {},
   "outputs": [
    {
     "name": "stdout",
     "output_type": "stream",
     "text": [
      "The left child of the root node <Black> is <Blue>\n",
      "The right child of the root node <Black> is <Pink>\n"
     ]
    }
   ],
   "source": [
    "print(\"The left child of the root node\",K,\"is\",K.left)\n",
    "print(\"The right child of the root node\",K,\"is\",K.right)"
   ]
  },
  {
   "cell_type": "code",
   "execution_count": 10,
   "id": "71f9c137",
   "metadata": {},
   "outputs": [
    {
     "data": {
      "text/plain": [
       "'Black'"
      ]
     },
     "execution_count": 10,
     "metadata": {},
     "output_type": "execute_result"
    }
   ],
   "source": [
    "K.key"
   ]
  },
  {
   "cell_type": "code",
   "execution_count": 11,
   "id": "b9eda7c0",
   "metadata": {},
   "outputs": [
    {
     "data": {
      "text/plain": [
       "'Blue'"
      ]
     },
     "execution_count": 11,
     "metadata": {},
     "output_type": "execute_result"
    }
   ],
   "source": [
    "K.left.key"
   ]
  }
 ],
 "metadata": {
  "kernelspec": {
   "display_name": "Python 3 (ipykernel)",
   "language": "python",
   "name": "python3"
  },
  "language_info": {
   "codemirror_mode": {
    "name": "ipython",
    "version": 3
   },
   "file_extension": ".py",
   "mimetype": "text/x-python",
   "name": "python",
   "nbconvert_exporter": "python",
   "pygments_lexer": "ipython3",
   "version": "3.10.6"
  }
 },
 "nbformat": 4,
 "nbformat_minor": 5
}
