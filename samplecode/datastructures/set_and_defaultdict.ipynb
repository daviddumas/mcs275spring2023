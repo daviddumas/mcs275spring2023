{
 "cells": [
  {
   "cell_type": "markdown",
   "id": "a006a977",
   "metadata": {},
   "source": [
    "## Literals"
   ]
  },
  {
   "cell_type": "code",
   "execution_count": 15,
   "id": "1a739b23",
   "metadata": {},
   "outputs": [],
   "source": [
    "# List literal\n",
    "L = [ 4, 8, 15, 16, 23, 42 ]\n",
    "L2 = [ 15, 4, 16, 23, 8, 42 ]"
   ]
  },
  {
   "cell_type": "code",
   "execution_count": 16,
   "id": "5f279d84",
   "metadata": {},
   "outputs": [
    {
     "data": {
      "text/plain": [
       "False"
      ]
     },
     "execution_count": 16,
     "metadata": {},
     "output_type": "execute_result"
    }
   ],
   "source": [
    "L == L2"
   ]
  },
  {
   "cell_type": "code",
   "execution_count": 7,
   "id": "b506a729",
   "metadata": {},
   "outputs": [
    {
     "data": {
      "text/plain": [
       "15"
      ]
     },
     "execution_count": 7,
     "metadata": {},
     "output_type": "execute_result"
    }
   ],
   "source": [
    "L[2]"
   ]
  },
  {
   "cell_type": "code",
   "execution_count": 3,
   "id": "49685729",
   "metadata": {},
   "outputs": [
    {
     "data": {
      "text/plain": [
       "list"
      ]
     },
     "execution_count": 3,
     "metadata": {},
     "output_type": "execute_result"
    }
   ],
   "source": [
    "type(L)"
   ]
  },
  {
   "cell_type": "code",
   "execution_count": 37,
   "id": "aba6854d",
   "metadata": {},
   "outputs": [
    {
     "data": {
      "text/plain": [
       "[4, 8, 15, 16, 23, 42]"
      ]
     },
     "execution_count": 37,
     "metadata": {},
     "output_type": "execute_result"
    }
   ],
   "source": [
    "L"
   ]
  },
  {
   "cell_type": "code",
   "execution_count": 38,
   "id": "82746785",
   "metadata": {},
   "outputs": [],
   "source": [
    "L.remove(15)"
   ]
  },
  {
   "cell_type": "code",
   "execution_count": 39,
   "id": "d598bb2a",
   "metadata": {},
   "outputs": [
    {
     "data": {
      "text/plain": [
       "[4, 8, 16, 23, 42]"
      ]
     },
     "execution_count": 39,
     "metadata": {},
     "output_type": "execute_result"
    }
   ],
   "source": [
    "L"
   ]
  },
  {
   "cell_type": "code",
   "execution_count": 40,
   "id": "bf0a34eb",
   "metadata": {},
   "outputs": [
    {
     "ename": "ValueError",
     "evalue": "list.remove(x): x not in list",
     "output_type": "error",
     "traceback": [
      "\u001b[0;31m---------------------------------------------------------------------------\u001b[0m",
      "\u001b[0;31mValueError\u001b[0m                                Traceback (most recent call last)",
      "\u001b[0;32m/tmp/ipykernel_6552/3657862553.py\u001b[0m in \u001b[0;36m<module>\u001b[0;34m\u001b[0m\n\u001b[0;32m----> 1\u001b[0;31m \u001b[0mL\u001b[0m\u001b[0;34m.\u001b[0m\u001b[0mremove\u001b[0m\u001b[0;34m(\u001b[0m\u001b[0;36m58\u001b[0m\u001b[0;34m)\u001b[0m\u001b[0;34m\u001b[0m\u001b[0;34m\u001b[0m\u001b[0m\n\u001b[0m",
      "\u001b[0;31mValueError\u001b[0m: list.remove(x): x not in list"
     ]
    }
   ],
   "source": [
    "L.remove(58)"
   ]
  },
  {
   "cell_type": "code",
   "execution_count": 41,
   "id": "9809c370",
   "metadata": {},
   "outputs": [],
   "source": [
    "L2 = [ 2,2,3,3,2,3,2]\n",
    "L2.remove(2)  # Removes the FIRST thing equal to 2"
   ]
  },
  {
   "cell_type": "code",
   "execution_count": 42,
   "id": "d5ef7937",
   "metadata": {},
   "outputs": [
    {
     "data": {
      "text/plain": [
       "[2, 3, 3, 2, 3, 2]"
      ]
     },
     "execution_count": 42,
     "metadata": {},
     "output_type": "execute_result"
    }
   ],
   "source": [
    "L2"
   ]
  },
  {
   "cell_type": "code",
   "execution_count": 4,
   "id": "5f78d35e",
   "metadata": {},
   "outputs": [],
   "source": [
    "# dict (dictionary) literal\n",
    "D = { \"a\":1, \"b\":3, \"c\":2, \"d\":2 }  # key:value pairs"
   ]
  },
  {
   "cell_type": "code",
   "execution_count": 5,
   "id": "9b3f402f",
   "metadata": {},
   "outputs": [
    {
     "data": {
      "text/plain": [
       "dict"
      ]
     },
     "execution_count": 5,
     "metadata": {},
     "output_type": "execute_result"
    }
   ],
   "source": [
    "type(D)"
   ]
  },
  {
   "cell_type": "code",
   "execution_count": 6,
   "id": "91119941",
   "metadata": {},
   "outputs": [
    {
     "data": {
      "text/plain": [
       "1"
      ]
     },
     "execution_count": 6,
     "metadata": {},
     "output_type": "execute_result"
    }
   ],
   "source": [
    "D[\"a\"]"
   ]
  },
  {
   "cell_type": "code",
   "execution_count": 17,
   "id": "d99cd6e9",
   "metadata": {},
   "outputs": [],
   "source": [
    "# set literal\n",
    "S = { 4, 8, 15, 16, 23, 42 }\n",
    "S2 = {15, 4, 16, 23, 8, 42}\n",
    "S3 = { 4, 8, 15, 15, 15, 15, 16, 23, 42, 42, 4, 8, 4}"
   ]
  },
  {
   "cell_type": "code",
   "execution_count": 10,
   "id": "cf612241",
   "metadata": {},
   "outputs": [
    {
     "data": {
      "text/plain": [
       "set"
      ]
     },
     "execution_count": 10,
     "metadata": {},
     "output_type": "execute_result"
    }
   ],
   "source": [
    "type(S)"
   ]
  },
  {
   "cell_type": "code",
   "execution_count": 12,
   "id": "68ad0664",
   "metadata": {},
   "outputs": [
    {
     "data": {
      "text/plain": [
       "{4, 8, 15, 16, 23, 42}"
      ]
     },
     "execution_count": 12,
     "metadata": {},
     "output_type": "execute_result"
    }
   ],
   "source": [
    "S"
   ]
  },
  {
   "cell_type": "code",
   "execution_count": 13,
   "id": "c6826ba2",
   "metadata": {},
   "outputs": [
    {
     "data": {
      "text/plain": [
       "{4, 8, 15, 16, 23, 42}"
      ]
     },
     "execution_count": 13,
     "metadata": {},
     "output_type": "execute_result"
    }
   ],
   "source": [
    "S2"
   ]
  },
  {
   "cell_type": "code",
   "execution_count": 18,
   "id": "fb245f02",
   "metadata": {},
   "outputs": [
    {
     "data": {
      "text/plain": [
       "{4, 8, 15, 16, 23, 42}"
      ]
     },
     "execution_count": 18,
     "metadata": {},
     "output_type": "execute_result"
    }
   ],
   "source": [
    "S3"
   ]
  },
  {
   "cell_type": "code",
   "execution_count": 19,
   "id": "db5df015",
   "metadata": {},
   "outputs": [
    {
     "data": {
      "text/plain": [
       "True"
      ]
     },
     "execution_count": 19,
     "metadata": {},
     "output_type": "execute_result"
    }
   ],
   "source": [
    "S==S3"
   ]
  },
  {
   "cell_type": "code",
   "execution_count": 20,
   "id": "60f4d235",
   "metadata": {},
   "outputs": [],
   "source": [
    "S = { 1, \"fish\", 2, \"fish\"}"
   ]
  },
  {
   "cell_type": "code",
   "execution_count": 21,
   "id": "1d02b8bd",
   "metadata": {},
   "outputs": [
    {
     "data": {
      "text/plain": [
       "{1, 2, 'fish'}"
      ]
     },
     "execution_count": 21,
     "metadata": {},
     "output_type": "execute_result"
    }
   ],
   "source": [
    "S"
   ]
  },
  {
   "cell_type": "code",
   "execution_count": 24,
   "id": "b1a7b644",
   "metadata": {},
   "outputs": [],
   "source": [
    "S = set()"
   ]
  },
  {
   "cell_type": "code",
   "execution_count": 25,
   "id": "dfb6a341",
   "metadata": {},
   "outputs": [
    {
     "data": {
      "text/plain": [
       "set"
      ]
     },
     "execution_count": 25,
     "metadata": {},
     "output_type": "execute_result"
    }
   ],
   "source": [
    "type(S)"
   ]
  },
  {
   "cell_type": "code",
   "execution_count": 26,
   "id": "bd089f25",
   "metadata": {},
   "outputs": [
    {
     "data": {
      "text/plain": [
       "set()"
      ]
     },
     "execution_count": 26,
     "metadata": {},
     "output_type": "execute_result"
    }
   ],
   "source": [
    "S"
   ]
  },
  {
   "cell_type": "code",
   "execution_count": 30,
   "id": "9e56b38f",
   "metadata": {},
   "outputs": [],
   "source": [
    "S.add(5)\n",
    "S.add(\"the universe\")\n",
    "S.add(True)\n",
    "S.add(5)"
   ]
  },
  {
   "cell_type": "code",
   "execution_count": 31,
   "id": "be1f323c",
   "metadata": {},
   "outputs": [
    {
     "data": {
      "text/plain": [
       "{5, True, 'the universe'}"
      ]
     },
     "execution_count": 31,
     "metadata": {},
     "output_type": "execute_result"
    }
   ],
   "source": [
    "S"
   ]
  },
  {
   "cell_type": "code",
   "execution_count": 32,
   "id": "ed3d2716",
   "metadata": {},
   "outputs": [
    {
     "data": {
      "text/plain": [
       "3"
      ]
     },
     "execution_count": 32,
     "metadata": {},
     "output_type": "execute_result"
    }
   ],
   "source": [
    "len(S)"
   ]
  },
  {
   "cell_type": "code",
   "execution_count": 33,
   "id": "77282805",
   "metadata": {},
   "outputs": [
    {
     "data": {
      "text/plain": [
       "True"
      ]
     },
     "execution_count": 33,
     "metadata": {},
     "output_type": "execute_result"
    }
   ],
   "source": [
    "5 in S"
   ]
  },
  {
   "cell_type": "code",
   "execution_count": 34,
   "id": "e50b8926",
   "metadata": {},
   "outputs": [
    {
     "data": {
      "text/plain": [
       "True"
      ]
     },
     "execution_count": 34,
     "metadata": {},
     "output_type": "execute_result"
    }
   ],
   "source": [
    "True in S"
   ]
  },
  {
   "cell_type": "code",
   "execution_count": 35,
   "id": "e350c894",
   "metadata": {},
   "outputs": [
    {
     "data": {
      "text/plain": [
       "False"
      ]
     },
     "execution_count": 35,
     "metadata": {},
     "output_type": "execute_result"
    }
   ],
   "source": [
    "\"my desk chair\" in S"
   ]
  },
  {
   "cell_type": "code",
   "execution_count": 36,
   "id": "bd219c1f",
   "metadata": {},
   "outputs": [
    {
     "data": {
      "text/plain": [
       "False"
      ]
     },
     "execution_count": 36,
     "metadata": {},
     "output_type": "execute_result"
    }
   ],
   "source": [
    "11 in S"
   ]
  },
  {
   "cell_type": "code",
   "execution_count": 43,
   "id": "9e7f38d0",
   "metadata": {},
   "outputs": [
    {
     "data": {
      "text/plain": [
       "{5, True, 'the universe'}"
      ]
     },
     "execution_count": 43,
     "metadata": {},
     "output_type": "execute_result"
    }
   ],
   "source": [
    "S"
   ]
  },
  {
   "cell_type": "code",
   "execution_count": 44,
   "id": "13247484",
   "metadata": {},
   "outputs": [],
   "source": [
    "S.remove(5)"
   ]
  },
  {
   "cell_type": "code",
   "execution_count": 45,
   "id": "e3880e79",
   "metadata": {},
   "outputs": [
    {
     "data": {
      "text/plain": [
       "{True, 'the universe'}"
      ]
     },
     "execution_count": 45,
     "metadata": {},
     "output_type": "execute_result"
    }
   ],
   "source": [
    "S"
   ]
  },
  {
   "cell_type": "code",
   "execution_count": 46,
   "id": "94ddcd49",
   "metadata": {},
   "outputs": [
    {
     "ename": "KeyError",
     "evalue": "'my desk chair'",
     "output_type": "error",
     "traceback": [
      "\u001b[0;31m---------------------------------------------------------------------------\u001b[0m",
      "\u001b[0;31mKeyError\u001b[0m                                  Traceback (most recent call last)",
      "\u001b[0;32m/tmp/ipykernel_6552/3172288327.py\u001b[0m in \u001b[0;36m<module>\u001b[0;34m\u001b[0m\n\u001b[0;32m----> 1\u001b[0;31m \u001b[0mS\u001b[0m\u001b[0;34m.\u001b[0m\u001b[0mremove\u001b[0m\u001b[0;34m(\u001b[0m\u001b[0;34m\"my desk chair\"\u001b[0m\u001b[0;34m)\u001b[0m\u001b[0;34m\u001b[0m\u001b[0;34m\u001b[0m\u001b[0m\n\u001b[0m",
      "\u001b[0;31mKeyError\u001b[0m: 'my desk chair'"
     ]
    }
   ],
   "source": [
    "S.remove(\"my desk chair\")"
   ]
  },
  {
   "cell_type": "code",
   "execution_count": 47,
   "id": "8f8f4b83",
   "metadata": {},
   "outputs": [],
   "source": [
    "S.discard(\"my desk chair\") # not present = no problem, do nothing"
   ]
  },
  {
   "cell_type": "code",
   "execution_count": 50,
   "id": "febe921d",
   "metadata": {},
   "outputs": [],
   "source": [
    "S.discard(True) # present = remove it"
   ]
  },
  {
   "cell_type": "code",
   "execution_count": 49,
   "id": "1ec1e80a",
   "metadata": {},
   "outputs": [
    {
     "data": {
      "text/plain": [
       "{'the universe'}"
      ]
     },
     "execution_count": 49,
     "metadata": {},
     "output_type": "execute_result"
    }
   ],
   "source": [
    "S"
   ]
  },
  {
   "cell_type": "code",
   "execution_count": 51,
   "id": "70017f87",
   "metadata": {},
   "outputs": [],
   "source": [
    "S = { 2, 3, 5, 7, 11, 13, 17 }"
   ]
  },
  {
   "cell_type": "code",
   "execution_count": 52,
   "id": "fc849cdb",
   "metadata": {},
   "outputs": [
    {
     "ename": "TypeError",
     "evalue": "'set' object is not subscriptable",
     "output_type": "error",
     "traceback": [
      "\u001b[0;31m---------------------------------------------------------------------------\u001b[0m",
      "\u001b[0;31mTypeError\u001b[0m                                 Traceback (most recent call last)",
      "\u001b[0;32m/tmp/ipykernel_6552/2981122203.py\u001b[0m in \u001b[0;36m<module>\u001b[0;34m\u001b[0m\n\u001b[0;32m----> 1\u001b[0;31m \u001b[0mS\u001b[0m\u001b[0;34m[\u001b[0m\u001b[0;36m0\u001b[0m\u001b[0;34m]\u001b[0m\u001b[0;34m\u001b[0m\u001b[0;34m\u001b[0m\u001b[0m\n\u001b[0m",
      "\u001b[0;31mTypeError\u001b[0m: 'set' object is not subscriptable"
     ]
    }
   ],
   "source": [
    "S[0]"
   ]
  },
  {
   "cell_type": "code",
   "execution_count": 53,
   "id": "2c973e6e",
   "metadata": {},
   "outputs": [],
   "source": [
    "x = S.pop()"
   ]
  },
  {
   "cell_type": "code",
   "execution_count": 56,
   "id": "23266f2f",
   "metadata": {},
   "outputs": [
    {
     "data": {
      "text/plain": [
       "{2, 3, 5, 7, 11, 13}"
      ]
     },
     "execution_count": 56,
     "metadata": {},
     "output_type": "execute_result"
    }
   ],
   "source": [
    "S"
   ]
  },
  {
   "cell_type": "code",
   "execution_count": 55,
   "id": "2a79f2ed",
   "metadata": {},
   "outputs": [
    {
     "data": {
      "text/plain": [
       "17"
      ]
     },
     "execution_count": 55,
     "metadata": {},
     "output_type": "execute_result"
    }
   ],
   "source": [
    "x"
   ]
  },
  {
   "cell_type": "code",
   "execution_count": 57,
   "id": "d9414056",
   "metadata": {},
   "outputs": [
    {
     "data": {
      "text/plain": [
       "True"
      ]
     },
     "execution_count": 57,
     "metadata": {},
     "output_type": "execute_result"
    }
   ],
   "source": [
    "bool(S) # nonempty set is regarded as \"True\" when used as a bool"
   ]
  },
  {
   "cell_type": "code",
   "execution_count": null,
   "id": "c709b3b0",
   "metadata": {},
   "outputs": [],
   "source": [
    "bool(set()) # empty set is regarded as \"False\""
   ]
  },
  {
   "cell_type": "code",
   "execution_count": 58,
   "id": "98b2063f",
   "metadata": {},
   "outputs": [
    {
     "name": "stdout",
     "output_type": "stream",
     "text": [
      "I got element 2\n",
      "I got element 3\n",
      "I got element 5\n",
      "I got element 7\n",
      "I got element 11\n",
      "I got element 13\n"
     ]
    }
   ],
   "source": [
    "while S:   # means while S is not empty\n",
    "    x = S.pop()\n",
    "    print(\"I got element\",x)"
   ]
  },
  {
   "cell_type": "code",
   "execution_count": 59,
   "id": "2178c3f8",
   "metadata": {},
   "outputs": [
    {
     "data": {
      "text/plain": [
       "set()"
      ]
     },
     "execution_count": 59,
     "metadata": {},
     "output_type": "execute_result"
    }
   ],
   "source": [
    "S"
   ]
  },
  {
   "cell_type": "code",
   "execution_count": 60,
   "id": "b4c93d9e",
   "metadata": {},
   "outputs": [],
   "source": [
    "S = { 2, 3, 5, 7, 11, 13, 17 }"
   ]
  },
  {
   "cell_type": "code",
   "execution_count": 62,
   "id": "e6887c49",
   "metadata": {},
   "outputs": [
    {
     "name": "stdout",
     "output_type": "stream",
     "text": [
      "Here's a nice element: 17\n",
      "Here's a nice element: 2\n",
      "Here's a nice element: 3\n",
      "Here's a nice element: 5\n",
      "Here's a nice element: 7\n",
      "Here's a nice element: 11\n",
      "Here's a nice element: 13\n"
     ]
    }
   ],
   "source": [
    "for x in S:\n",
    "    print(\"Here's a nice element:\",x)\n",
    "# Guarantee: every element of S will be assigned to x exactly once"
   ]
  },
  {
   "cell_type": "code",
   "execution_count": 63,
   "id": "1669fbb7",
   "metadata": {},
   "outputs": [],
   "source": [
    "S = set( [5,5,2,1,3,8,9])"
   ]
  },
  {
   "cell_type": "code",
   "execution_count": 64,
   "id": "413dcc69",
   "metadata": {},
   "outputs": [
    {
     "data": {
      "text/plain": [
       "{1, 2, 3, 5, 8, 9}"
      ]
     },
     "execution_count": 64,
     "metadata": {},
     "output_type": "execute_result"
    }
   ],
   "source": [
    "S"
   ]
  },
  {
   "cell_type": "code",
   "execution_count": 65,
   "id": "4c3d6cd3",
   "metadata": {},
   "outputs": [],
   "source": [
    "S = set( \"the university\" )\n",
    "S2 = set( \"success\")"
   ]
  },
  {
   "cell_type": "code",
   "execution_count": 66,
   "id": "a49fd9a7",
   "metadata": {},
   "outputs": [
    {
     "data": {
      "text/plain": [
       "{' ', 'e', 'h', 'i', 'n', 'r', 's', 't', 'u', 'v', 'y'}"
      ]
     },
     "execution_count": 66,
     "metadata": {},
     "output_type": "execute_result"
    }
   ],
   "source": [
    "S"
   ]
  },
  {
   "cell_type": "code",
   "execution_count": 67,
   "id": "b5bad9a6",
   "metadata": {},
   "outputs": [
    {
     "data": {
      "text/plain": [
       "{'c', 'e', 's', 'u'}"
      ]
     },
     "execution_count": 67,
     "metadata": {},
     "output_type": "execute_result"
    }
   ],
   "source": [
    "S2"
   ]
  },
  {
   "cell_type": "code",
   "execution_count": 68,
   "id": "d5cc197a",
   "metadata": {},
   "outputs": [
    {
     "data": {
      "text/plain": [
       "{' ', 'c', 'e', 'h', 'i', 'n', 'r', 's', 't', 'u', 'v', 'y'}"
      ]
     },
     "execution_count": 68,
     "metadata": {},
     "output_type": "execute_result"
    }
   ],
   "source": [
    "S | S2  # union"
   ]
  },
  {
   "cell_type": "code",
   "execution_count": 69,
   "id": "b7e33826",
   "metadata": {},
   "outputs": [
    {
     "data": {
      "text/plain": [
       "{'e', 's', 'u'}"
      ]
     },
     "execution_count": 69,
     "metadata": {},
     "output_type": "execute_result"
    }
   ],
   "source": [
    "S & S2 # intersection"
   ]
  },
  {
   "cell_type": "code",
   "execution_count": 70,
   "id": "bfcaf103",
   "metadata": {},
   "outputs": [
    {
     "data": {
      "text/plain": [
       "{'e', 's', 'u'}"
      ]
     },
     "execution_count": 70,
     "metadata": {},
     "output_type": "execute_result"
    }
   ],
   "source": [
    "S.intersection(S2)"
   ]
  },
  {
   "cell_type": "code",
   "execution_count": 71,
   "id": "6dd21077",
   "metadata": {},
   "outputs": [
    {
     "data": {
      "text/plain": [
       "{' ', 'c', 'e', 'h', 'i', 'n', 'r', 's', 't', 'u', 'v', 'y'}"
      ]
     },
     "execution_count": 71,
     "metadata": {},
     "output_type": "execute_result"
    }
   ],
   "source": [
    "S.union(S2)"
   ]
  },
  {
   "cell_type": "code",
   "execution_count": 72,
   "id": "e96feac5",
   "metadata": {},
   "outputs": [
    {
     "data": {
      "text/plain": [
       "{' ', 'e', 'h', 'i', 'n', 'r', 's', 't', 'u', 'v', 'y'}"
      ]
     },
     "execution_count": 72,
     "metadata": {},
     "output_type": "execute_result"
    }
   ],
   "source": [
    "S"
   ]
  },
  {
   "cell_type": "code",
   "execution_count": 73,
   "id": "0d2cc89b",
   "metadata": {},
   "outputs": [],
   "source": [
    "S.update( [ \"f\", \"z\", \";\"] )  # update = bulk add from an iterable"
   ]
  },
  {
   "cell_type": "code",
   "execution_count": 74,
   "id": "142893cf",
   "metadata": {},
   "outputs": [
    {
     "data": {
      "text/plain": [
       "{' ', ';', 'e', 'f', 'h', 'i', 'n', 'r', 's', 't', 'u', 'v', 'y', 'z'}"
      ]
     },
     "execution_count": 74,
     "metadata": {},
     "output_type": "execute_result"
    }
   ],
   "source": [
    "S"
   ]
  },
  {
   "cell_type": "code",
   "execution_count": 75,
   "id": "1d0c4f7a",
   "metadata": {},
   "outputs": [],
   "source": [
    "s = \"Perhaps my teaching will replaced by an AI in the next few years.  Actually, I hope not.\""
   ]
  },
  {
   "cell_type": "code",
   "execution_count": 78,
   "id": "798a8c1a",
   "metadata": {},
   "outputs": [],
   "source": [
    "hist = dict()\n",
    "for c in s:\n",
    "    if c in hist:\n",
    "        hist[c] += 1\n",
    "    else:\n",
    "        hist[c] = 1 # first time, just record it's been seen once"
   ]
  },
  {
   "cell_type": "code",
   "execution_count": 79,
   "id": "8568f3a0",
   "metadata": {},
   "outputs": [
    {
     "data": {
      "text/plain": [
       "{'P': 1,\n",
       " 'e': 9,\n",
       " 'r': 3,\n",
       " 'h': 4,\n",
       " 'a': 6,\n",
       " 'p': 3,\n",
       " 's': 2,\n",
       " ' ': 17,\n",
       " 'm': 1,\n",
       " 'y': 4,\n",
       " 't': 5,\n",
       " 'c': 3,\n",
       " 'i': 3,\n",
       " 'n': 5,\n",
       " 'g': 1,\n",
       " 'w': 2,\n",
       " 'l': 5,\n",
       " 'd': 1,\n",
       " 'b': 1,\n",
       " 'A': 2,\n",
       " 'I': 2,\n",
       " 'x': 1,\n",
       " 'f': 1,\n",
       " '.': 2,\n",
       " 'u': 1,\n",
       " ',': 1,\n",
       " 'o': 2}"
      ]
     },
     "execution_count": 79,
     "metadata": {},
     "output_type": "execute_result"
    }
   ],
   "source": [
    "hist"
   ]
  },
  {
   "cell_type": "code",
   "execution_count": 80,
   "id": "40f26d59",
   "metadata": {},
   "outputs": [
    {
     "data": {
      "text/plain": [
       "0"
      ]
     },
     "execution_count": 80,
     "metadata": {},
     "output_type": "execute_result"
    }
   ],
   "source": [
    "int()"
   ]
  },
  {
   "cell_type": "code",
   "execution_count": 81,
   "id": "a9fe6700",
   "metadata": {},
   "outputs": [
    {
     "data": {
      "text/plain": [
       "0.0"
      ]
     },
     "execution_count": 81,
     "metadata": {},
     "output_type": "execute_result"
    }
   ],
   "source": [
    "float()"
   ]
  },
  {
   "cell_type": "code",
   "execution_count": 82,
   "id": "ef32f32e",
   "metadata": {},
   "outputs": [
    {
     "data": {
      "text/plain": [
       "[]"
      ]
     },
     "execution_count": 82,
     "metadata": {},
     "output_type": "execute_result"
    }
   ],
   "source": [
    "list()"
   ]
  },
  {
   "cell_type": "code",
   "execution_count": 83,
   "id": "816e5a99",
   "metadata": {},
   "outputs": [],
   "source": [
    "import collections\n"
   ]
  },
  {
   "cell_type": "code",
   "execution_count": 84,
   "id": "fe9ac16d",
   "metadata": {},
   "outputs": [],
   "source": [
    "hist = collections.defaultdict(int) # means 0 is the default value\n",
    "for c in s:\n",
    "    hist[c] += 1"
   ]
  },
  {
   "cell_type": "code",
   "execution_count": 85,
   "id": "0873f7c8",
   "metadata": {},
   "outputs": [
    {
     "data": {
      "text/plain": [
       "defaultdict(int,\n",
       "            {'P': 1,\n",
       "             'e': 9,\n",
       "             'r': 3,\n",
       "             'h': 4,\n",
       "             'a': 6,\n",
       "             'p': 3,\n",
       "             's': 2,\n",
       "             ' ': 17,\n",
       "             'm': 1,\n",
       "             'y': 4,\n",
       "             't': 5,\n",
       "             'c': 3,\n",
       "             'i': 3,\n",
       "             'n': 5,\n",
       "             'g': 1,\n",
       "             'w': 2,\n",
       "             'l': 5,\n",
       "             'd': 1,\n",
       "             'b': 1,\n",
       "             'A': 2,\n",
       "             'I': 2,\n",
       "             'x': 1,\n",
       "             'f': 1,\n",
       "             '.': 2,\n",
       "             'u': 1,\n",
       "             ',': 1,\n",
       "             'o': 2})"
      ]
     },
     "execution_count": 85,
     "metadata": {},
     "output_type": "execute_result"
    }
   ],
   "source": [
    "hist"
   ]
  },
  {
   "cell_type": "code",
   "execution_count": null,
   "id": "b0092ad1",
   "metadata": {},
   "outputs": [],
   "source": []
  }
 ],
 "metadata": {
  "kernelspec": {
   "display_name": "Python 3 (ipykernel)",
   "language": "python",
   "name": "python3"
  },
  "language_info": {
   "codemirror_mode": {
    "name": "ipython",
    "version": 3
   },
   "file_extension": ".py",
   "mimetype": "text/x-python",
   "name": "python",
   "nbconvert_exporter": "python",
   "pygments_lexer": "ipython3",
   "version": "3.10.6"
  }
 },
 "nbformat": 4,
 "nbformat_minor": 5
}
