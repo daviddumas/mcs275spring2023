{
 "cells": [
  {
   "cell_type": "markdown",
   "id": "e7504a77",
   "metadata": {},
   "source": [
    "# Julia sets (live coding version)\n",
    "\n",
    "This is the unedited live lecture notebook from Lecture 24."
   ]
  },
  {
   "cell_type": "code",
   "execution_count": 50,
   "id": "42939ac1",
   "metadata": {},
   "outputs": [],
   "source": [
    "def f(z):\n",
    "    return z*z - 1"
   ]
  },
  {
   "cell_type": "code",
   "execution_count": 4,
   "id": "cb6f5439",
   "metadata": {},
   "outputs": [],
   "source": [
    "def orbit(func,a,n):\n",
    "    \"Compute the first `n` terms in the orbit of `a` under function `func`\"\n",
    "    L = [a]\n",
    "    for _ in range(n-1):\n",
    "        a = func(a)\n",
    "        L.append(a)\n",
    "    return L"
   ]
  },
  {
   "cell_type": "code",
   "execution_count": 5,
   "id": "28677ba0",
   "metadata": {},
   "outputs": [
    {
     "data": {
      "text/plain": [
       "[1, 0, -1, 0, -1, 0, -1, 0, -1, 0]"
      ]
     },
     "execution_count": 5,
     "metadata": {},
     "output_type": "execute_result"
    }
   ],
   "source": [
    "orbit(f,1,10) # bounded"
   ]
  },
  {
   "cell_type": "code",
   "execution_count": 6,
   "id": "d4f6c143",
   "metadata": {},
   "outputs": [
    {
     "data": {
      "text/plain": [
       "[2,\n",
       " 3,\n",
       " 8,\n",
       " 63,\n",
       " 3968,\n",
       " 15745023,\n",
       " 247905749270528,\n",
       " 61457260521381894004129398783,\n",
       " 3776994870793005510047522464634252677140721938309041881088,\n",
       " 14265690253996672387291309349232388828298289458234016200317876247121873778287073518355813134107244701354409532063743]"
      ]
     },
     "execution_count": 6,
     "metadata": {},
     "output_type": "execute_result"
    }
   ],
   "source": [
    "orbit(f,2,10) # unbounded"
   ]
  },
  {
   "cell_type": "code",
   "execution_count": 7,
   "id": "58e56ca2",
   "metadata": {},
   "outputs": [
    {
     "data": {
      "text/plain": [
       "[1.9,\n",
       " 2.61,\n",
       " 5.812099999999999,\n",
       " 32.78050640999999,\n",
       " 1073.5616004960502,\n",
       " 1152533.510059641,\n",
       " 1328333491809.3965,\n",
       " 1.764469865462544e+24,\n",
       " 3.1133539061254084e+48,\n",
       " 9.692972544786338e+96]"
      ]
     },
     "execution_count": 7,
     "metadata": {},
     "output_type": "execute_result"
    }
   ],
   "source": [
    "orbit(f,1.9,10) # unbounded"
   ]
  },
  {
   "cell_type": "code",
   "execution_count": 10,
   "id": "27b19ab9",
   "metadata": {},
   "outputs": [
    {
     "data": {
      "text/plain": [
       "[1.25,\n",
       " 0.5625,\n",
       " -0.68359375,\n",
       " -0.5326995849609375,\n",
       " -0.7162311521824449,\n",
       " -0.4870129366434074,\n",
       " -0.7628183995419644,\n",
       " -0.418108089320236,\n",
       " -0.8251856256449815,\n",
       " -0.31906868322890036,\n",
       " -0.8981951753825757,\n",
       " -0.19324542691946411,\n",
       " -0.962656204974714,\n",
       " -0.07329303102368134,\n",
       " -0.9946281316033617,\n",
       " -0.010714879823205736,\n",
       " -0.9998851913503742,\n",
       " -0.00022960411822547933,\n",
       " -0.9999999472819489,\n",
       " -1.0543609951785271e-07,\n",
       " -0.9999999999999889,\n",
       " -2.220446049250313e-14,\n",
       " -1.0,\n",
       " 0.0,\n",
       " -1.0,\n",
       " 0.0,\n",
       " -1.0,\n",
       " 0.0,\n",
       " -1.0,\n",
       " 0.0]"
      ]
     },
     "execution_count": 10,
     "metadata": {},
     "output_type": "execute_result"
    }
   ],
   "source": [
    "orbit(f,1.25,30) # bounded??"
   ]
  },
  {
   "cell_type": "markdown",
   "id": "bfcf181e",
   "metadata": {},
   "source": [
    "## Complex numbers in python"
   ]
  },
  {
   "cell_type": "code",
   "execution_count": 11,
   "id": "d07b344c",
   "metadata": {},
   "outputs": [
    {
     "data": {
      "text/plain": [
       "1j"
      ]
     },
     "execution_count": 11,
     "metadata": {},
     "output_type": "execute_result"
    }
   ],
   "source": [
    "# In mathematics the square root of -1 is called i\n",
    "1j"
   ]
  },
  {
   "cell_type": "code",
   "execution_count": 12,
   "id": "abfd71ea",
   "metadata": {},
   "outputs": [
    {
     "data": {
      "text/plain": [
       "(-1+0j)"
      ]
     },
     "execution_count": 12,
     "metadata": {},
     "output_type": "execute_result"
    }
   ],
   "source": [
    "1j*1j"
   ]
  },
  {
   "cell_type": "code",
   "execution_count": 14,
   "id": "ec27074c",
   "metadata": {},
   "outputs": [],
   "source": [
    "z = 4-5j"
   ]
  },
  {
   "cell_type": "code",
   "execution_count": 15,
   "id": "a5ef24bf",
   "metadata": {},
   "outputs": [
    {
     "data": {
      "text/plain": [
       "complex"
      ]
     },
     "execution_count": 15,
     "metadata": {},
     "output_type": "execute_result"
    }
   ],
   "source": [
    "type(z)"
   ]
  },
  {
   "cell_type": "markdown",
   "id": "a121c2a7",
   "metadata": {},
   "source": [
    "## Grid of complex numbers"
   ]
  },
  {
   "cell_type": "code",
   "execution_count": 16,
   "id": "b116107d",
   "metadata": {},
   "outputs": [],
   "source": [
    "import numpy as np"
   ]
  },
  {
   "cell_type": "code",
   "execution_count": 41,
   "id": "49829849",
   "metadata": {},
   "outputs": [],
   "source": [
    "size = 1000\n",
    "\n",
    "# All complex numbers x+y*i where |x| <= 2.5 and |y| <= 2.5\n",
    "# Make a 2D array whose values give a rectangular grid of points in that region\n",
    "xvals = np.linspace(-2.5,2.5,size) # row\n",
    "yvals = np.linspace(-2.5,2.5,size) # row"
   ]
  },
  {
   "cell_type": "code",
   "execution_count": 42,
   "id": "d6f1aa4f",
   "metadata": {},
   "outputs": [],
   "source": [
    "# [[ -2.5+2.5j, ..., 2.5+2.5j], ... [-2.5-2.5j, ..., 2.5-2.5j] ]\n",
    "# row            col\n",
    "zz = xvals + 1j * yvals[::-1].reshape((size,1))"
   ]
  },
  {
   "cell_type": "code",
   "execution_count": 44,
   "id": "0ae710f3",
   "metadata": {},
   "outputs": [
    {
     "data": {
      "text/plain": [
       "(1000, 1000)"
      ]
     },
     "execution_count": 44,
     "metadata": {},
     "output_type": "execute_result"
    }
   ],
   "source": [
    "zz.shape"
   ]
  },
  {
   "cell_type": "markdown",
   "id": "8f75be73",
   "metadata": {},
   "source": [
    "Let's classify the orbits of the points in zz"
   ]
  },
  {
   "cell_type": "code",
   "execution_count": 29,
   "id": "6f7b7b2d",
   "metadata": {},
   "outputs": [],
   "source": [
    "def is_unbounded(a):\n",
    "    \"\"\"\n",
    "    Return True if the orbit of `a` under `f` can be seen to be unbounded\n",
    "    by examining the first 1000 points in it.  Otherwise, return False.\n",
    "    \"\"\"\n",
    "    for _ in range(1000):\n",
    "        if abs(a) >= 2:\n",
    "            return True\n",
    "        a = f(a)\n",
    "    \n",
    "    return False"
   ]
  },
  {
   "cell_type": "code",
   "execution_count": 30,
   "id": "b5f3f104",
   "metadata": {},
   "outputs": [
    {
     "data": {
      "text/plain": [
       "True"
      ]
     },
     "execution_count": 30,
     "metadata": {},
     "output_type": "execute_result"
    }
   ],
   "source": [
    "is_unbounded(2)"
   ]
  },
  {
   "cell_type": "code",
   "execution_count": 31,
   "id": "6b0c3228",
   "metadata": {},
   "outputs": [
    {
     "data": {
      "text/plain": [
       "True"
      ]
     },
     "execution_count": 31,
     "metadata": {},
     "output_type": "execute_result"
    }
   ],
   "source": [
    "is_unbounded(1.9)"
   ]
  },
  {
   "cell_type": "code",
   "execution_count": 32,
   "id": "d93ed76d",
   "metadata": {},
   "outputs": [
    {
     "data": {
      "text/plain": [
       "False"
      ]
     },
     "execution_count": 32,
     "metadata": {},
     "output_type": "execute_result"
    }
   ],
   "source": [
    "is_unbounded(1.25)"
   ]
  },
  {
   "cell_type": "code",
   "execution_count": 45,
   "id": "400e3523",
   "metadata": {},
   "outputs": [],
   "source": [
    "# Where I'll store the orbit classification results\n",
    "imgdata = np.zeros_like(zz,dtype=\"uint8\")\n",
    "# black = 0, white = 255"
   ]
  },
  {
   "cell_type": "code",
   "execution_count": 46,
   "id": "7d5a7f3e",
   "metadata": {},
   "outputs": [
    {
     "data": {
      "text/plain": [
       "(1000, 1000)"
      ]
     },
     "execution_count": 46,
     "metadata": {},
     "output_type": "execute_result"
    }
   ],
   "source": [
    "imgdata.shape"
   ]
  },
  {
   "cell_type": "code",
   "execution_count": 47,
   "id": "a31fef13",
   "metadata": {},
   "outputs": [],
   "source": [
    "for i in range(zz.shape[0]):\n",
    "    for j in range(zz.shape[1]):\n",
    "        if is_unbounded(zz[i,j]):\n",
    "            # orbit is not bounded, so put a white pixel at that point\n",
    "            imgdata[i,j] = 255"
   ]
  },
  {
   "cell_type": "code",
   "execution_count": 48,
   "id": "250fd199",
   "metadata": {},
   "outputs": [],
   "source": [
    "import PIL.Image"
   ]
  },
  {
   "cell_type": "code",
   "execution_count": 49,
   "id": "990d75f0",
   "metadata": {},
   "outputs": [
    {
     "data": {
      "image/png": "[encoded data removed]",
      "text/plain": [
       "<PIL.Image.Image image mode=L size=1000x1000>"
      ]
     },
     "execution_count": 49,
     "metadata": {},
     "output_type": "execute_result"
    }
   ],
   "source": [
    "PIL.Image.fromarray(imgdata)"
   ]
  },
  {
   "cell_type": "code",
   "execution_count": 52,
   "id": "bb8bf7e3",
   "metadata": {},
   "outputs": [
    {
     "data": {
      "text/plain": [
       "array([[-1.        -12.5j       , -1.02499997-12.47497497j,\n",
       "        -1.04994985-12.44994995j, ..., -1.04994985+12.44994995j,\n",
       "        -1.02499997+12.47497497j, -1.        +12.5j       ],\n",
       "       [-0.97500003-12.47497497j, -1.        -12.45000005j,\n",
       "        -1.02494987-12.42502513j, ..., -1.02494987+12.42502513j,\n",
       "        -1.        +12.45000005j, -0.97500003+12.47497497j],\n",
       "       [-0.95005015-12.44994995j, -0.97505013-12.42502513j,\n",
       "        -1.        -12.4001003j , ..., -1.        +12.4001003j ,\n",
       "        -0.97505013+12.42502513j, -0.95005015+12.44994995j],\n",
       "       ...,\n",
       "       [-0.95005015+12.44994995j, -0.97505013+12.42502513j,\n",
       "        -1.        +12.4001003j , ..., -1.        -12.4001003j ,\n",
       "        -0.97505013-12.42502513j, -0.95005015-12.44994995j],\n",
       "       [-0.97500003+12.47497497j, -1.        +12.45000005j,\n",
       "        -1.02494987+12.42502513j, ..., -1.02494987-12.42502513j,\n",
       "        -1.        -12.45000005j, -0.97500003-12.47497497j],\n",
       "       [-1.        +12.5j       , -1.02499997+12.47497497j,\n",
       "        -1.04994985+12.44994995j, ..., -1.04994985-12.44994995j,\n",
       "        -1.02499997-12.47497497j, -1.        -12.5j       ]])"
      ]
     },
     "execution_count": 52,
     "metadata": {},
     "output_type": "execute_result"
    }
   ],
   "source": [
    "f(zz)"
   ]
  },
  {
   "cell_type": "code",
   "execution_count": 53,
   "id": "3e1d808d",
   "metadata": {},
   "outputs": [],
   "source": [
    "iterates = np.copy(zz)"
   ]
  },
  {
   "cell_type": "code",
   "execution_count": 54,
   "id": "f34d6e7e",
   "metadata": {},
   "outputs": [
    {
     "name": "stderr",
     "output_type": "stream",
     "text": [
      "C:\\Users\\ddumas\\AppData\\Local\\Temp\\ipykernel_15808\\3167947636.py:2: RuntimeWarning: overflow encountered in multiply\n",
      "  return z*z - 1\n",
      "C:\\Users\\ddumas\\AppData\\Local\\Temp\\ipykernel_15808\\3167947636.py:2: RuntimeWarning: invalid value encountered in multiply\n",
      "  return z*z - 1\n"
     ]
    }
   ],
   "source": []
  },
  {
   "cell_type": "code",
   "execution_count": 57,
   "id": "4fec4900",
   "metadata": {},
   "outputs": [
    {
     "data": {
      "text/plain": [
       "array([[ True,  True,  True, ...,  True,  True,  True],\n",
       "       [ True,  True,  True, ...,  True,  True,  True],\n",
       "       [ True,  True,  True, ...,  True,  True,  True],\n",
       "       ...,\n",
       "       [ True,  True,  True, ...,  True,  True,  True],\n",
       "       [ True,  True,  True, ...,  True,  True,  True],\n",
       "       [ True,  True,  True, ...,  True,  True,  True]])"
      ]
     },
     "execution_count": 57,
     "metadata": {},
     "output_type": "execute_result"
    }
   ],
   "source": [
    "np.isnan(iterates) # is_unbounded for each point in the grid"
   ]
  },
  {
   "cell_type": "code",
   "execution_count": 61,
   "id": "ec591580",
   "metadata": {},
   "outputs": [
    {
     "name": "stderr",
     "output_type": "stream",
     "text": [
      "C:\\Users\\ddumas\\AppData\\Local\\Temp\\ipykernel_15808\\3167947636.py:2: RuntimeWarning: overflow encountered in multiply\n",
      "  return z*z - 1\n",
      "C:\\Users\\ddumas\\AppData\\Local\\Temp\\ipykernel_15808\\3167947636.py:2: RuntimeWarning: invalid value encountered in multiply\n",
      "  return z*z - 1\n"
     ]
    },
    {
     "data": {
      "image/png": "[encoded data removed]",
      "text/plain": [
       "<PIL.Image.Image image mode=L size=1000x1000>"
      ]
     },
     "execution_count": 61,
     "metadata": {},
     "output_type": "execute_result"
    }
   ],
   "source": [
    "iterates = np.copy(zz)\n",
    "for _ in range(1000):\n",
    "    iterates = f(iterates)\n",
    "PIL.Image.fromarray(255*np.isnan(iterates).astype(\"uint8\"))"
   ]
  },
  {
   "cell_type": "code",
   "execution_count": 63,
   "id": "4fc70ef7",
   "metadata": {},
   "outputs": [
    {
     "data": {
      "image/png": "[encoded data removed]",
      "text/plain": [
       "<PIL.Image.Image image mode=L size=1000x1000>"
      ]
     },
     "execution_count": 63,
     "metadata": {},
     "output_type": "execute_result"
    }
   ],
   "source": [
    "iterates = np.copy(zz)\n",
    "proceed = np.ones_like(iterates,dtype=\"bool\")  # Grid of True\n",
    "for _ in range(1000):\n",
    "    iterates[proceed] = f(iterates[proceed])  # Apply f to each pixel where we are supposed to proceed\n",
    "    proceed = np.abs(iterates) < 2  # In future iterations, only continue on the pixels where abs < 2\n",
    "\n",
    "PIL.Image.fromarray(255*(1 - proceed.astype(\"uint8\")))"
   ]
  }
 ],
 "metadata": {
  "kernelspec": {
   "display_name": "Python 3 (ipykernel)",
   "language": "python",
   "name": "python3"
  },
  "language_info": {
   "codemirror_mode": {
    "name": "ipython",
    "version": 3
   },
   "file_extension": ".py",
   "mimetype": "text/x-python",
   "name": "python",
   "nbconvert_exporter": "python",
   "pygments_lexer": "ipython3",
   "version": "3.10.10"
  }
 },
 "nbformat": 4,
 "nbformat_minor": 5
}
