{
 "cells": [
  {
   "cell_type": "markdown",
   "metadata": {},
   "source": [
    "# Quick intro to `matplotlib`\n",
    "### MCS 275 Spring 2023 - David Dumas\n",
    "\n",
    "This is a quick tour of basic plotting with matplotlib.  For more detail see:\n",
    "* [Chapter 4 of VanderPlas](https://jakevdp.github.io/PythonDataScienceHandbook/04.00-introduction-to-matplotlib.html)\n",
    "* [matplotlib documentation](https://matplotlib.org/3.7.1/index.html), which includes some handy single-page guides:\n",
    "    * [matplotlib gallery](https://matplotlib.org/stable/gallery/index)\n",
    "    * [matplotlib cheatsheet](https://matplotlib.org/cheatsheets/)\n",
    "    * [matplotlib beginner handout](https://matplotlib.org/cheatsheets/handout-beginner.pdf)\n",
    "\n",
    "You can install matplotlib on your own machine (e.g. `python3 -m pip install matplotlib`).  \n",
    "Matplotlib is often most used in a notebook setting.\n",
    "\n",
    "Matplotlib and numpy are pre-installed in the [Google Colab](https://colab.research.google.com/) notebook environment."
   ]
  },
  {
   "cell_type": "markdown",
   "metadata": {},
   "source": [
    "## Import matplotlib etc."
   ]
  },
  {
   "cell_type": "markdown",
   "metadata": {},
   "source": [
    "### Optional: select a stylesheet"
   ]
  },
  {
   "cell_type": "code",
   "execution_count": null,
   "metadata": {},
   "outputs": [],
   "source": [
    "#plt.style.available"
   ]
  },
  {
   "cell_type": "code",
   "execution_count": null,
   "metadata": {},
   "outputs": [],
   "source": [
    "#plt.style.use(\"seaborn-whitegrid\")"
   ]
  },
  {
   "cell_type": "markdown",
   "metadata": {},
   "source": [
    "## Absolutely minimal plot example"
   ]
  },
  {
   "cell_type": "markdown",
   "metadata": {},
   "source": [
    "## A more complete line plot example\n",
    "\n",
    "Set up a `plt.figure`, actually ask for it to be shown with `plt.show()`."
   ]
  },
  {
   "cell_type": "markdown",
   "metadata": {},
   "source": [
    "## Line plot with markers"
   ]
  },
  {
   "cell_type": "markdown",
   "metadata": {},
   "source": [
    "## Multiple functions\n",
    "\n",
    "Call `plt.plot` several times and each set of data will be shown on the same axes."
   ]
  },
  {
   "cell_type": "markdown",
   "metadata": {},
   "source": [
    "## Line colors and styles\n",
    "\n",
    "`plt.plot` accepts `color`, `linestyle`, `linewidth` kwargs"
   ]
  },
  {
   "cell_type": "markdown",
   "metadata": {},
   "source": [
    "## Adjusting axes\n",
    "\n",
    "`plt.xlim` and `plt.ylim`"
   ]
  },
  {
   "cell_type": "markdown",
   "metadata": {},
   "source": [
    "## Parametric plot\n",
    "\n",
    "Just make `x` and `y` both arrays computed from a third one.  Or do those computations directly in the call to `plt.plot`.\n",
    "\n",
    "Also, `plt.axis(\"equal\")` makes unit size in vertical and horizontal directions the same."
   ]
  },
  {
   "cell_type": "markdown",
   "metadata": {},
   "source": [
    "## Line plots can lie\n",
    "\n",
    "If you plot $\\tan(x)$, the poles are not recognized.  Instead, you get a continuous line plot."
   ]
  },
  {
   "cell_type": "markdown",
   "metadata": {},
   "source": [
    "## Plot labels and legends"
   ]
  },
  {
   "cell_type": "markdown",
   "metadata": {},
   "source": [
    "## Scatter plots"
   ]
  },
  {
   "cell_type": "markdown",
   "metadata": {},
   "source": [
    "### Make with `plt.plot`: Same color and marker size for each point"
   ]
  },
  {
   "cell_type": "code",
   "execution_count": null,
   "metadata": {},
   "outputs": [],
   "source": [
    "# sample data\n",
    "n = np.array([1,1.5,2,2.5,3.5,5])\n",
    "t = np.array([1.8,2.6,3.5,4.9,8.8,8.2])\n",
    "s = np.array([0.1,0.1,0.1,0.2,0.2,0.5])\n",
    "c = np.array([1,2,3,5,8,20])"
   ]
  },
  {
   "cell_type": "markdown",
   "metadata": {},
   "source": [
    "### Make with `plt.scatter`: Can specify size and color for each point\n",
    "\n",
    "kwarg `cmap` selects colormap.  `plt.colorbar()` adds a color bar.  `plt.colormaps()` shows available ones."
   ]
  },
  {
   "cell_type": "markdown",
   "metadata": {},
   "source": [
    "## Scatter plot real world data\n",
    "\n",
    "CSV with data about meteorites recovered on earth's surface, adapted from a NASA dataset:\n",
    "* [meteorites.csv](https://www.dumas.io/teaching/2022/spring/mcs275/data/meteorites.csv)\n",
    "\n",
    "Let's load it into a dictionary mapping column names to lists of values (thanks, `defaultdict`!) and then make some plots.\n",
    "\n",
    "For this dataset it turns out sizing by $0.002 m^{2/3}$ is a good choice.\n",
    "\n",
    "kwarg `alpha` can make the markers partially transparent."
   ]
  },
  {
   "cell_type": "markdown",
   "metadata": {},
   "source": [
    "Pretty nice.  Looks like a world map.  Questions:\n",
    "* How much influence does population density have on this?\n",
    "* What's the likely distribution of actual meteorite landing points?\n",
    "* What's that really big one from before 1827 near latitude 75?"
   ]
  },
  {
   "cell_type": "markdown",
   "metadata": {},
   "source": [
    "### Annotate\n",
    "\n",
    "Let's take that plot and add text labeling a certain point.  Specifically, the really big meteorite from before 1827."
   ]
  },
  {
   "cell_type": "code",
   "execution_count": null,
   "metadata": {},
   "outputs": [],
   "source": [
    "plt.annotate(\"Cape York Meteorite (1818)\",\n",
    "             xy=(-64.933,76.13),   # Point we're annotating\n",
    "             xycoords='data',      # inform matlab these coords are in data units\n",
    "             xytext=(0, 15),  # Where the text goes\n",
    "             textcoords='offset points',  # inform matlab of units and origin for the coords on prev line\n",
    "                                          # (units = points, origin = the point being annotated)\n",
    "             horizontalalignment='center',\n",
    "             verticalalignment='bottom',\n",
    "            )\n"
   ]
  },
  {
   "cell_type": "markdown",
   "metadata": {},
   "source": [
    "### That really big meteorite from 1818\n",
    "\n",
    "https://en.wikipedia.org/wiki/Cape_York_meteorite#/media/File:Ahnighito_AMNH,_34_tons_meteorite.jpg"
   ]
  },
  {
   "cell_type": "markdown",
   "metadata": {},
   "source": [
    "## Contour and density plots\n",
    "\n",
    "Let's try $f(x,y) = x^3 - 8x + 3y^2 + \\frac{1}{2}y^3$.\n",
    "\n",
    "* `plt.contour(xx,yy,zz,[contourlist])` - contour plot\n",
    "* `plt.contourf(xx,yy,zz,[contourlist])` - filled contour plot\n"
   ]
  },
  {
   "cell_type": "code",
   "execution_count": 11,
   "metadata": {},
   "outputs": [],
   "source": [
    "x = np.linspace(-3,3,100)\n",
    "y = np.linspace(-2,2,80)\n",
    "xx,yy = np.meshgrid(x,y)"
   ]
  },
  {
   "cell_type": "markdown",
   "metadata": {},
   "source": [
    "### Adding labels to contours"
   ]
  },
  {
   "cell_type": "markdown",
   "metadata": {},
   "source": [
    "`plt.clabel` adds labels to an existing contour plot.  Its argument is the return value of a previous call to `plt.contour`."
   ]
  },
  {
   "cell_type": "markdown",
   "metadata": {},
   "source": [
    "### Density plots with `plt.imshow`"
   ]
  },
  {
   "cell_type": "code",
   "execution_count": null,
   "metadata": {},
   "outputs": [],
   "source": [
    "plt.imshow(zz,extent=[np.min(x),np.max(x),np.min(y),np.max(y)],origin=\"lower\")\n",
    "# origin=\"lower\" means the first row of zz appears at the bottom of the plot.\n",
    "# That's correct since our meshgrid has smallest y values in the first row."
   ]
  },
  {
   "cell_type": "markdown",
   "metadata": {},
   "source": [
    "### Combining density and contour plots"
   ]
  }
 ],
 "metadata": {
  "kernelspec": {
   "display_name": "Python 3 (ipykernel)",
   "language": "python",
   "name": "python3"
  },
  "language_info": {
   "codemirror_mode": {
    "name": "ipython",
    "version": 3
   },
   "file_extension": ".py",
   "mimetype": "text/x-python",
   "name": "python",
   "nbconvert_exporter": "python",
   "pygments_lexer": "ipython3",
   "version": "3.10.6"
  }
 },
 "nbformat": 4,
 "nbformat_minor": 4
}
