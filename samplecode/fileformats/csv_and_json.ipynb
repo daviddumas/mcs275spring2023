{
 "cells": [
  {
   "cell_type": "markdown",
   "id": "44ce48f2",
   "metadata": {},
   "source": [
    "# Working with CSV and JSON in Python"
   ]
  },
  {
   "cell_type": "markdown",
   "id": "b8bcf729",
   "metadata": {},
   "source": [
    "## CSV"
   ]
  },
  {
   "cell_type": "code",
   "execution_count": 1,
   "id": "f8a204f0",
   "metadata": {},
   "outputs": [],
   "source": [
    "import csv"
   ]
  },
  {
   "cell_type": "markdown",
   "id": "77265f5b",
   "metadata": {},
   "source": [
    "### Read a CSV file"
   ]
  },
  {
   "cell_type": "code",
   "execution_count": 7,
   "id": "d124e4ce",
   "metadata": {},
   "outputs": [],
   "source": [
    "areas = []\n",
    "with open(\"example_ri_usps.csv\",\"r\",newline=\"\",encoding=\"UTF-8\") as fp:\n",
    "    # now the file is open\n",
    "    reader = csv.DictReader(fp)\n",
    "    # reader is an iterable, so you typically use in for loop\n",
    "    for row in reader:\n",
    "        # row[column_name] gets the data in that row for a given column\n",
    "        areas.append(float(row[\"Int Sq Ft\"].replace(\",\",\"\")))"
   ]
  },
  {
   "cell_type": "code",
   "execution_count": 8,
   "id": "f6cf933f",
   "metadata": {},
   "outputs": [
    {
     "data": {
      "text/plain": [
       "[6769.0,\n",
       " 13764.0,\n",
       " 1413.0,\n",
       " 35637.0,\n",
       " 32629.0,\n",
       " 3290.0,\n",
       " 9452.0,\n",
       " 16137.0,\n",
       " 49535.0,\n",
       " 12048.0,\n",
       " 39677.0,\n",
       " 39677.0,\n",
       " 6085.0,\n",
       " 17034.0,\n",
       " 10733.0,\n",
       " 384113.0,\n",
       " 384113.0,\n",
       " 384113.0,\n",
       " 384113.0,\n",
       " 31358.0,\n",
       " 6408.0,\n",
       " 9484.0,\n",
       " 6097.0,\n",
       " 10131.0,\n",
       " 17482.0,\n",
       " 8448.0,\n",
       " 14236.0,\n",
       " 34476.0,\n",
       " 34476.0]"
      ]
     },
     "execution_count": 8,
     "metadata": {},
     "output_type": "execute_result"
    }
   ],
   "source": [
    "areas"
   ]
  },
  {
   "cell_type": "code",
   "execution_count": 9,
   "id": "e53cb6ca",
   "metadata": {},
   "outputs": [
    {
     "name": "stdout",
     "output_type": "stream",
     "text": [
      "The average interior square footage of a USPS facility in RI is: 69066.4827586207\n"
     ]
    }
   ],
   "source": [
    "print(\"The average interior square footage of a USPS facility in RI is:\",sum(areas)/len(areas))"
   ]
  },
  {
   "cell_type": "markdown",
   "id": "c52438b4",
   "metadata": {},
   "source": [
    "Remark: That seems extremely high.  Presumably most of these are multi-floor facilities and each floor is counted separately?"
   ]
  },
  {
   "cell_type": "markdown",
   "id": "d5107fab",
   "metadata": {},
   "source": [
    "## Write a CSV file"
   ]
  },
  {
   "cell_type": "code",
   "execution_count": 11,
   "id": "448865c5",
   "metadata": {},
   "outputs": [],
   "source": [
    "with open(\"courses.csv\",\"w\",newline=\"\",encoding=\"UTF-8\") as fp:\n",
    "    w = csv.DictWriter(fp, fieldnames=[\"course\",\"instructor\"])\n",
    "    # Write the column headers\n",
    "    w.writeheader()\n",
    "    # Now write the rows of data\n",
    "    w.writerow({\"course\": \"MCS 260\",\n",
    "                \"instructor\": \"Dumas\"})\n",
    "    w.writerow({\"course\": \"MCS 275\",\n",
    "                \"instructor\": \"Dumas\"})"
   ]
  },
  {
   "cell_type": "markdown",
   "id": "c61bcfe4",
   "metadata": {},
   "source": [
    "## JSON"
   ]
  },
  {
   "cell_type": "code",
   "execution_count": 3,
   "id": "073ea209",
   "metadata": {},
   "outputs": [],
   "source": [
    "import json"
   ]
  },
  {
   "cell_type": "markdown",
   "id": "c69875fc",
   "metadata": {},
   "source": [
    "## Read a JSON file\n",
    "\n",
    "Always get a single object back; often a dictionary with lots of stuff in it"
   ]
  },
  {
   "cell_type": "code",
   "execution_count": 4,
   "id": "371e5cce",
   "metadata": {},
   "outputs": [],
   "source": [
    "with open(\"example_il_newsfeed.json\",\"r\",encoding=\"UTF-8\") as fp:\n",
    "    data = json.load(fp)  # this one line reads the entire file"
   ]
  },
  {
   "cell_type": "code",
   "execution_count": 5,
   "id": "be90f228",
   "metadata": {},
   "outputs": [
    {
     "data": {
      "text/plain": [
       "{'newsFeedItemList': [{'title': 'Illinois Ranks #2 State in the Nation for Corporate Investment ',\n",
       "   'type': 'Press Release',\n",
       "   'date': 'Wednesday, March 01',\n",
       "   'year': '2023',\n",
       "   'description': 'CHICAGO — Site Selection Magazine – an international industry-leading business publication -- released its annual corporate expansion and relocation rankings, naming Illinois 2nd in the nation for corporate projects and Chicago the Top Metro for the 10th year in a row.',\n",
       "   'thumbnail': 'https://www2.illinois.gov/IISNewsImages/rollupimages/GOV/govlogo.jpg',\n",
       "   'url': 'https://www.illinois.gov/news/press-release.26121.html',\n",
       "   'altText': ''},\n",
       "  {'title': 'State of Illinois Launches Coalition in Effort to Eliminate Viral Hepatitis in Illinois ',\n",
       "   'type': 'Press Release',\n",
       "   'date': 'Tuesday, February 28',\n",
       "   'year': '2023',\n",
       "   'description': 'CHICAGO – The Illinois Department of Public Health (IDPH) launched a new effort today to eliminate viral hepatitis in Illinois.',\n",
       "   'thumbnail': 'https://www2.illinois.gov/IISNewsImages/rollupimages/DPH/IDPHlogo.jpg',\n",
       "   'url': 'https://www.illinois.gov/news/press-release.26117.html',\n",
       "   'altText': ''},\n",
       "  {'title': 'ILLINOIS LT. GOV. JULIANA STRATTON TESTIFIES AT U.S. SENATE HEARING ON THE EQUAL RIGHTS AMENDMENT',\n",
       "   'type': 'Press Release',\n",
       "   'date': 'Tuesday, February 28',\n",
       "   'year': '2023',\n",
       "   'description': 'WASHINGTON – The journey to equality must push forward.',\n",
       "   'thumbnail': 'https://www2.illinois.gov/IISNewsImages/rollupimages/LtGov/LtGovLogo.jpg',\n",
       "   'url': 'https://www.illinois.gov/news/press-release.26119.html',\n",
       "   'altText': ''}]}"
      ]
     },
     "execution_count": 5,
     "metadata": {},
     "output_type": "execute_result"
    }
   ],
   "source": [
    "data"
   ]
  },
  {
   "cell_type": "markdown",
   "id": "798ff8ea",
   "metadata": {},
   "source": [
    "### Drilling down into the data from a JSON file to explore structure"
   ]
  },
  {
   "cell_type": "code",
   "execution_count": 6,
   "id": "21c23b80",
   "metadata": {},
   "outputs": [
    {
     "data": {
      "text/plain": [
       "dict"
      ]
     },
     "execution_count": 6,
     "metadata": {},
     "output_type": "execute_result"
    }
   ],
   "source": [
    "type(data)"
   ]
  },
  {
   "cell_type": "code",
   "execution_count": 7,
   "id": "e80baa24",
   "metadata": {},
   "outputs": [
    {
     "data": {
      "text/plain": [
       "dict_keys(['newsFeedItemList'])"
      ]
     },
     "execution_count": 7,
     "metadata": {},
     "output_type": "execute_result"
    }
   ],
   "source": [
    "data.keys()"
   ]
  },
  {
   "cell_type": "code",
   "execution_count": 8,
   "id": "2ff6ce72",
   "metadata": {},
   "outputs": [],
   "source": [
    "newsitems = data[\"newsFeedItemList\"]"
   ]
  },
  {
   "cell_type": "code",
   "execution_count": 9,
   "id": "61ca0935",
   "metadata": {},
   "outputs": [
    {
     "data": {
      "text/plain": [
       "list"
      ]
     },
     "execution_count": 9,
     "metadata": {},
     "output_type": "execute_result"
    }
   ],
   "source": [
    "type(newsitems)"
   ]
  },
  {
   "cell_type": "code",
   "execution_count": 10,
   "id": "d1e109e2",
   "metadata": {},
   "outputs": [
    {
     "data": {
      "text/plain": [
       "3"
      ]
     },
     "execution_count": 10,
     "metadata": {},
     "output_type": "execute_result"
    }
   ],
   "source": [
    "len(newsitems)"
   ]
  },
  {
   "cell_type": "code",
   "execution_count": 11,
   "id": "b6ef7527",
   "metadata": {},
   "outputs": [
    {
     "data": {
      "text/plain": [
       "{'title': 'Illinois Ranks #2 State in the Nation for Corporate Investment ',\n",
       " 'type': 'Press Release',\n",
       " 'date': 'Wednesday, March 01',\n",
       " 'year': '2023',\n",
       " 'description': 'CHICAGO — Site Selection Magazine – an international industry-leading business publication -- released its annual corporate expansion and relocation rankings, naming Illinois 2nd in the nation for corporate projects and Chicago the Top Metro for the 10th year in a row.',\n",
       " 'thumbnail': 'https://www2.illinois.gov/IISNewsImages/rollupimages/GOV/govlogo.jpg',\n",
       " 'url': 'https://www.illinois.gov/news/press-release.26121.html',\n",
       " 'altText': ''}"
      ]
     },
     "execution_count": 11,
     "metadata": {},
     "output_type": "execute_result"
    }
   ],
   "source": [
    "newsitems[0]  # first news story"
   ]
  },
  {
   "cell_type": "markdown",
   "id": "1af79110",
   "metadata": {},
   "source": [
    "### All titles of news items"
   ]
  },
  {
   "cell_type": "code",
   "execution_count": 12,
   "id": "23c8bbde",
   "metadata": {},
   "outputs": [
    {
     "name": "stdout",
     "output_type": "stream",
     "text": [
      "Illinois Ranks #2 State in the Nation for Corporate Investment \n",
      "State of Illinois Launches Coalition in Effort to Eliminate Viral Hepatitis in Illinois \n",
      "ILLINOIS LT. GOV. JULIANA STRATTON TESTIFIES AT U.S. SENATE HEARING ON THE EQUAL RIGHTS AMENDMENT\n"
     ]
    }
   ],
   "source": [
    "for x in data[\"newsFeedItemList\"]:\n",
    "    print(x[\"title\"])"
   ]
  },
  {
   "cell_type": "markdown",
   "id": "b653751e",
   "metadata": {},
   "source": [
    "### Writing JSON files"
   ]
  },
  {
   "cell_type": "markdown",
   "id": "6528bd6f",
   "metadata": {},
   "source": [
    "A dictionary to be written to a JSON file must have all keys of type `str` (string).  The following dictionary is valid Python but you can't write it to a JSON file (or if you do, reading it back will give you something different)."
   ]
  },
  {
   "cell_type": "code",
   "execution_count": 33,
   "id": "7d0ab17b",
   "metadata": {},
   "outputs": [],
   "source": [
    "d = {\n",
    "    1: \"hello\",\n",
    "    False: \"information\",\n",
    "    \"what\": None,\n",
    "}"
   ]
  },
  {
   "cell_type": "markdown",
   "id": "7e5189ce",
   "metadata": {},
   "source": [
    "Let's write a dictionary with string keys to a file."
   ]
  },
  {
   "cell_type": "code",
   "execution_count": 35,
   "id": "f59a63c2",
   "metadata": {},
   "outputs": [],
   "source": [
    "val = { \n",
    "        \"temperature\": 451.3,\n",
    "        \"primes\": [2,3,5,7,11],\n",
    "        \"awesome\": True,\n",
    "        \"starter\": \"charmander\",\n",
    "        \"enthusiasm\": None,\n",
    "}\n",
    "with open(\"out.json\",\"w\",encoding=\"UTF-8\") as fp:\n",
    "    json.dump(val,fp) # save exactly one object to file"
   ]
  },
  {
   "cell_type": "code",
   "execution_count": 13,
   "id": "4171d848",
   "metadata": {},
   "outputs": [],
   "source": [
    "# Now we read it back\n",
    "with open(\"out.json\",\"r\",encoding=\"UTF-8\") as fp:\n",
    "    val_read = json.load(fp)"
   ]
  },
  {
   "cell_type": "code",
   "execution_count": 37,
   "id": "d65379c8",
   "metadata": {},
   "outputs": [
    {
     "data": {
      "text/plain": [
       "{'temperature': 451.3,\n",
       " 'primes': [2, 3, 5, 7, 11],\n",
       " 'awesome': True,\n",
       " 'starter': 'charmander',\n",
       " 'enthusiasm': None}"
      ]
     },
     "execution_count": 37,
     "metadata": {},
     "output_type": "execute_result"
    }
   ],
   "source": [
    "val_read  # what did we get back?"
   ]
  },
  {
   "cell_type": "code",
   "execution_count": 38,
   "id": "b345d512",
   "metadata": {},
   "outputs": [
    {
     "data": {
      "text/plain": [
       "{'temperature': 451.3,\n",
       " 'primes': [2, 3, 5, 7, 11],\n",
       " 'awesome': True,\n",
       " 'starter': 'charmander',\n",
       " 'enthusiasm': None}"
      ]
     },
     "execution_count": 38,
     "metadata": {},
     "output_type": "execute_result"
    }
   ],
   "source": [
    "val # what did we write?"
   ]
  },
  {
   "cell_type": "markdown",
   "id": "59da53e8",
   "metadata": {},
   "source": [
    "We notice that these agree, types and all!"
   ]
  }
 ],
 "metadata": {
  "kernelspec": {
   "display_name": "Python 3 (ipykernel)",
   "language": "python",
   "name": "python3"
  },
  "language_info": {
   "codemirror_mode": {
    "name": "ipython",
    "version": 3
   },
   "file_extension": ".py",
   "mimetype": "text/x-python",
   "name": "python",
   "nbconvert_exporter": "python",
   "pygments_lexer": "ipython3",
   "version": "3.10.6"
  }
 },
 "nbformat": 4,
 "nbformat_minor": 5
}
