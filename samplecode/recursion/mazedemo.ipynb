{
 "cells": [
  {
   "cell_type": "markdown",
   "id": "58212982",
   "metadata": {},
   "source": [
    "## Tour of the `maze.Maze` class"
   ]
  },
  {
   "cell_type": "code",
   "execution_count": 1,
   "id": "bb081402",
   "metadata": {},
   "outputs": [],
   "source": [
    "import maze"
   ]
  },
  {
   "cell_type": "code",
   "execution_count": 2,
   "id": "250d87b9",
   "metadata": {},
   "outputs": [
    {
     "data": {
      "text/plain": [
       "['Maze',\n",
       " 'MazeExample1',\n",
       " 'Point2',\n",
       " 'PrimRandomMaze',\n",
       " 'Vector2',\n",
       " '__builtins__',\n",
       " '__cached__',\n",
       " '__doc__',\n",
       " '__file__',\n",
       " '__loader__',\n",
       " '__name__',\n",
       " '__package__',\n",
       " '__spec__',\n",
       " 'random',\n",
       " 'tohexcolor']"
      ]
     },
     "execution_count": 2,
     "metadata": {},
     "output_type": "execute_result"
    }
   ],
   "source": [
    "dir(maze)"
   ]
  },
  {
   "cell_type": "code",
   "execution_count": 3,
   "id": "bc7a4527",
   "metadata": {},
   "outputs": [
    {
     "data": {
      "text/plain": [
       "type"
      ]
     },
     "execution_count": 3,
     "metadata": {},
     "output_type": "execute_result"
    }
   ],
   "source": [
    "type(maze.MazeExample1)"
   ]
  },
  {
   "cell_type": "code",
   "execution_count": 4,
   "id": "f362d680",
   "metadata": {},
   "outputs": [
    {
     "name": "stdout",
     "output_type": "stream",
     "text": [
      "Help on class MazeExample1 in module maze:\n",
      "\n",
      "class MazeExample1(Maze)\n",
      " |  7x7 example maze from lecture 15\n",
      " |  \n",
      " |  Method resolution order:\n",
      " |      MazeExample1\n",
      " |      Maze\n",
      " |      builtins.object\n",
      " |  \n",
      " |  Methods defined here:\n",
      " |  \n",
      " |  __init__(self)\n",
      " |      Set blocked cells for 7x7 example from lecture 15\n",
      " |  \n",
      " |  ----------------------------------------------------------------------\n",
      " |  Methods inherited from Maze:\n",
      " |  \n",
      " |  __repr__(self)\n",
      " |      Default to using str() for everything\n",
      " |  \n",
      " |  __str__(self)\n",
      " |      Crude text picture\n",
      " |  \n",
      " |  apply_border(self)\n",
      " |      Make all edge cells into walls\n",
      " |  \n",
      " |  free_neighbors(self, p)\n",
      " |      Return list of neighbors of point `p` that\n",
      " |      are currently free\n",
      " |  \n",
      " |  insist_valid(self, p)\n",
      " |      Raise exception if `p` not a valid position\n",
      " |  \n",
      " |  is_blocked(self, p)\n",
      " |      Is the cell at point `p` blocked?\n",
      " |  \n",
      " |  is_free(self, p)\n",
      " |      Is the cell at point `p` free?\n",
      " |  \n",
      " |  is_valid(self, p)\n",
      " |      Is `p` a valid position for this maze?\n",
      " |  \n",
      " |  save_png(self, fn, scale=1, highlight=[])\n",
      " |      Save maze to a PNG file (requires PIL or Pillow module).\n",
      " |      If given, `highlight` is expected to be a list of `Point2`\n",
      " |      objects that are locations in the maze to be highlighted in\n",
      " |      blue.\n",
      " |  \n",
      " |  save_svg(self, fn, highlight=[])\n",
      " |      Save maze to a SVG file\n",
      " |      If given, `highlight` is expected to be a list of `Point2`\n",
      " |      objects that are locations in the maze to be highlighted in\n",
      " |      blue.\n",
      " |  \n",
      " |  set_blocked(self, p)\n",
      " |      Put a wall at point `p`\n",
      " |  \n",
      " |  set_free(self, p)\n",
      " |      Clear the cell at point `p`\n",
      " |  \n",
      " |  ----------------------------------------------------------------------\n",
      " |  Data descriptors inherited from Maze:\n",
      " |  \n",
      " |  __dict__\n",
      " |      dictionary for instance variables (if defined)\n",
      " |  \n",
      " |  __weakref__\n",
      " |      list of weak references to the object (if defined)\n",
      " |  \n",
      " |  ----------------------------------------------------------------------\n",
      " |  Data and other attributes inherited from Maze:\n",
      " |  \n",
      " |  neighbor_disps = [Vector2(-1,0), Vector2(0,-1), Vector2(1,0), Vector2(...\n",
      "\n"
     ]
    }
   ],
   "source": [
    "help(maze.MazeExample1)"
   ]
  },
  {
   "cell_type": "code",
   "execution_count": 5,
   "id": "2775a703",
   "metadata": {},
   "outputs": [],
   "source": [
    "M = maze.MazeExample1()"
   ]
  },
  {
   "cell_type": "code",
   "execution_count": 6,
   "id": "669ababe",
   "metadata": {},
   "outputs": [
    {
     "data": {
      "text/plain": [
       "@@@@@@@\n",
       "@ @   @\n",
       "@ @@@ @\n",
       "@     @\n",
       "@@@ @@@\n",
       "@     @\n",
       "@@@@@@@"
      ]
     },
     "execution_count": 6,
     "metadata": {},
     "output_type": "execute_result"
    }
   ],
   "source": [
    "M"
   ]
  },
  {
   "cell_type": "code",
   "execution_count": 7,
   "id": "7c59f4b4",
   "metadata": {},
   "outputs": [
    {
     "data": {
      "text/plain": [
       "Point2(1,1)"
      ]
     },
     "execution_count": 7,
     "metadata": {},
     "output_type": "execute_result"
    }
   ],
   "source": [
    "M.start"
   ]
  },
  {
   "cell_type": "code",
   "execution_count": 8,
   "id": "32be42b4",
   "metadata": {},
   "outputs": [
    {
     "data": {
      "text/plain": [
       "Point2(5,5)"
      ]
     },
     "execution_count": 8,
     "metadata": {},
     "output_type": "execute_result"
    }
   ],
   "source": [
    "M.goal"
   ]
  },
  {
   "cell_type": "code",
   "execution_count": 10,
   "id": "cc7e649f",
   "metadata": {},
   "outputs": [
    {
     "name": "stdout",
     "output_type": "stream",
     "text": [
      "Help on method is_free in module maze:\n",
      "\n",
      "is_free(p) method of maze.MazeExample1 instance\n",
      "    Is the cell at point `p` free?\n",
      "\n"
     ]
    }
   ],
   "source": [
    "help(M.is_free)"
   ]
  },
  {
   "cell_type": "code",
   "execution_count": 11,
   "id": "ac74f974",
   "metadata": {},
   "outputs": [],
   "source": [
    "from plane import Vector2, Point2"
   ]
  },
  {
   "cell_type": "code",
   "execution_count": 12,
   "id": "d3e6dcff",
   "metadata": {},
   "outputs": [
    {
     "data": {
      "text/plain": [
       "@@@@@@@\n",
       "@ @   @\n",
       "@ @@@ @\n",
       "@     @\n",
       "@@@ @@@\n",
       "@     @\n",
       "@@@@@@@"
      ]
     },
     "execution_count": 12,
     "metadata": {},
     "output_type": "execute_result"
    }
   ],
   "source": [
    "M"
   ]
  },
  {
   "cell_type": "code",
   "execution_count": 13,
   "id": "9568a295",
   "metadata": {},
   "outputs": [
    {
     "data": {
      "text/plain": [
       "False"
      ]
     },
     "execution_count": 13,
     "metadata": {},
     "output_type": "execute_result"
    }
   ],
   "source": [
    "M.is_free(Point2(0,0))"
   ]
  },
  {
   "cell_type": "code",
   "execution_count": 14,
   "id": "1e6d84d4",
   "metadata": {},
   "outputs": [
    {
     "data": {
      "text/plain": [
       "True"
      ]
     },
     "execution_count": 14,
     "metadata": {},
     "output_type": "execute_result"
    }
   ],
   "source": [
    "M.is_free(Point2(1,1))"
   ]
  },
  {
   "cell_type": "code",
   "execution_count": 15,
   "id": "0c184539",
   "metadata": {},
   "outputs": [
    {
     "data": {
      "text/plain": [
       "False"
      ]
     },
     "execution_count": 15,
     "metadata": {},
     "output_type": "execute_result"
    }
   ],
   "source": [
    "M.is_free(Point2(2,1))"
   ]
  },
  {
   "cell_type": "code",
   "execution_count": 16,
   "id": "b9e96ff3",
   "metadata": {},
   "outputs": [
    {
     "data": {
      "text/plain": [
       "[Point2(1,2), Point2(2,3)]"
      ]
     },
     "execution_count": 16,
     "metadata": {},
     "output_type": "execute_result"
    }
   ],
   "source": [
    "M.free_neighbors(Point2(1,3))  # expect to be able to go to (1,2) or (2,3)"
   ]
  },
  {
   "cell_type": "code",
   "execution_count": 17,
   "id": "968851b1",
   "metadata": {},
   "outputs": [
    {
     "data": {
      "text/plain": [
       "@@@@@@@@@@@@@\n",
       "@ @ @ @     @\n",
       "@ @ @ @ @ @@@\n",
       "@       @   @\n",
       "@ @ @ @ @@@@@\n",
       "@ @ @ @   @ @\n",
       "@@@ @ @@@@@ @\n",
       "@   @       @\n",
       "@@@@@@@@@@@@@"
      ]
     },
     "execution_count": 17,
     "metadata": {},
     "output_type": "execute_result"
    }
   ],
   "source": [
    "maze.PrimRandomMaze(13,9)"
   ]
  },
  {
   "cell_type": "code",
   "execution_count": 18,
   "id": "3d818784",
   "metadata": {},
   "outputs": [
    {
     "data": {
      "text/plain": [
       "@@@@@@@@@@@@@\n",
       "@     @     @\n",
       "@@@@@ @ @@@@@\n",
       "@           @\n",
       "@@@ @@@ @ @ @\n",
       "@     @ @ @ @\n",
       "@ @ @ @@@ @ @\n",
       "@ @ @   @ @ @\n",
       "@@@@@@@@@@@@@"
      ]
     },
     "execution_count": 18,
     "metadata": {},
     "output_type": "execute_result"
    }
   ],
   "source": [
    "maze.PrimRandomMaze(13,9)"
   ]
  },
  {
   "cell_type": "code",
   "execution_count": 19,
   "id": "97e65248",
   "metadata": {},
   "outputs": [
    {
     "data": {
      "text/plain": [
       "@@@@@@@@@@@@@\n",
       "@ @     @   @\n",
       "@ @@@ @@@ @@@\n",
       "@           @\n",
       "@@@@@ @@@ @ @\n",
       "@ @ @   @ @ @\n",
       "@ @ @ @ @ @@@\n",
       "@     @ @   @\n",
       "@@@@@@@@@@@@@"
      ]
     },
     "execution_count": 19,
     "metadata": {},
     "output_type": "execute_result"
    }
   ],
   "source": [
    "maze.PrimRandomMaze(13,9)"
   ]
  },
  {
   "cell_type": "code",
   "execution_count": 20,
   "id": "bdf7c536",
   "metadata": {},
   "outputs": [],
   "source": [
    "M = maze.Maze(16,8)"
   ]
  },
  {
   "cell_type": "code",
   "execution_count": 21,
   "id": "d18e5e96",
   "metadata": {},
   "outputs": [
    {
     "data": {
      "text/plain": [
       "                \n",
       "                \n",
       "                \n",
       "                \n",
       "                \n",
       "                \n",
       "                \n",
       "                "
      ]
     },
     "execution_count": 21,
     "metadata": {},
     "output_type": "execute_result"
    }
   ],
   "source": [
    "M"
   ]
  },
  {
   "cell_type": "code",
   "execution_count": 22,
   "id": "dabccc54",
   "metadata": {},
   "outputs": [],
   "source": [
    "M.apply_border()"
   ]
  },
  {
   "cell_type": "code",
   "execution_count": 23,
   "id": "cce70fdd",
   "metadata": {},
   "outputs": [
    {
     "data": {
      "text/plain": [
       "@@@@@@@@@@@@@@@@\n",
       "@              @\n",
       "@              @\n",
       "@              @\n",
       "@              @\n",
       "@              @\n",
       "@              @\n",
       "@@@@@@@@@@@@@@@@"
      ]
     },
     "execution_count": 23,
     "metadata": {},
     "output_type": "execute_result"
    }
   ],
   "source": [
    "M"
   ]
  },
  {
   "cell_type": "code",
   "execution_count": 26,
   "id": "b96b3fc3",
   "metadata": {},
   "outputs": [],
   "source": [
    "M.goal = Point2(14,6)"
   ]
  },
  {
   "cell_type": "code",
   "execution_count": 27,
   "id": "b694c2f9",
   "metadata": {},
   "outputs": [],
   "source": [
    "M.start = Point2(1,1)"
   ]
  },
  {
   "cell_type": "code",
   "execution_count": 28,
   "id": "d2a558ea",
   "metadata": {},
   "outputs": [
    {
     "data": {
      "text/plain": [
       "@@@@@@@@@@@@@@@@\n",
       "@              @\n",
       "@              @\n",
       "@              @\n",
       "@              @\n",
       "@              @\n",
       "@              @\n",
       "@@@@@@@@@@@@@@@@"
      ]
     },
     "execution_count": 28,
     "metadata": {},
     "output_type": "execute_result"
    }
   ],
   "source": [
    "M"
   ]
  },
  {
   "cell_type": "code",
   "execution_count": 29,
   "id": "686d1554",
   "metadata": {},
   "outputs": [
    {
     "data": {
      "text/plain": [
       "Point2(1,1)"
      ]
     },
     "execution_count": 29,
     "metadata": {},
     "output_type": "execute_result"
    }
   ],
   "source": [
    "M.start"
   ]
  },
  {
   "cell_type": "code",
   "execution_count": 31,
   "id": "d609c652",
   "metadata": {},
   "outputs": [],
   "source": [
    "M.set_blocked(Point2(2,1))\n",
    "M.set_blocked(Point2(2,2))\n",
    "M.set_blocked(Point2(2,3))\n",
    "M.set_blocked(Point2(3,3))"
   ]
  },
  {
   "cell_type": "code",
   "execution_count": 32,
   "id": "399ec26e",
   "metadata": {},
   "outputs": [
    {
     "data": {
      "text/plain": [
       "@@@@@@@@@@@@@@@@\n",
       "@ @            @\n",
       "@ @            @\n",
       "@ @@           @\n",
       "@              @\n",
       "@              @\n",
       "@              @\n",
       "@@@@@@@@@@@@@@@@"
      ]
     },
     "execution_count": 32,
     "metadata": {},
     "output_type": "execute_result"
    }
   ],
   "source": [
    "M"
   ]
  },
  {
   "cell_type": "code",
   "execution_count": 33,
   "id": "af1159dd",
   "metadata": {},
   "outputs": [],
   "source": [
    "M.save_svg(\"example.svg\")"
   ]
  },
  {
   "cell_type": "markdown",
   "id": "b25544cf",
   "metadata": {},
   "source": [
    "## Demo of depth first solution"
   ]
  },
  {
   "cell_type": "code",
   "execution_count": 1,
   "id": "0e846865",
   "metadata": {},
   "outputs": [],
   "source": [
    "import maze\n",
    "import solvemaze"
   ]
  },
  {
   "cell_type": "code",
   "execution_count": 2,
   "id": "73ac243b",
   "metadata": {},
   "outputs": [],
   "source": [
    "M = maze.MazeExample1()"
   ]
  },
  {
   "cell_type": "code",
   "execution_count": 3,
   "id": "8fc1c38b",
   "metadata": {},
   "outputs": [
    {
     "data": {
      "text/plain": [
       "@@@@@@@\n",
       "@ @   @\n",
       "@ @@@ @\n",
       "@     @\n",
       "@@@ @@@\n",
       "@     @\n",
       "@@@@@@@"
      ]
     },
     "execution_count": 3,
     "metadata": {},
     "output_type": "execute_result"
    }
   ],
   "source": [
    "M"
   ]
  },
  {
   "cell_type": "code",
   "execution_count": 4,
   "id": "607f0dea",
   "metadata": {},
   "outputs": [
    {
     "data": {
      "text/plain": [
       "Point2(1,1)"
      ]
     },
     "execution_count": 4,
     "metadata": {},
     "output_type": "execute_result"
    }
   ],
   "source": [
    "M.start"
   ]
  },
  {
   "cell_type": "code",
   "execution_count": 5,
   "id": "ba00b0f7",
   "metadata": {},
   "outputs": [
    {
     "data": {
      "text/plain": [
       "Point2(5,5)"
      ]
     },
     "execution_count": 5,
     "metadata": {},
     "output_type": "execute_result"
    }
   ],
   "source": [
    "M.goal"
   ]
  },
  {
   "cell_type": "code",
   "execution_count": 7,
   "id": "ce52909d",
   "metadata": {},
   "outputs": [
    {
     "name": "stdout",
     "output_type": "stream",
     "text": [
      "Considering: [Point2(1,1)]\n",
      "Considering: [Point2(1,1), Point2(1,2)]\n",
      "Considering: [Point2(1,1), Point2(1,2), Point2(1,3)]\n",
      "Considering: [Point2(1,1), Point2(1,2), Point2(1,3), Point2(2,3)]\n",
      "Considering: [Point2(1,1), Point2(1,2), Point2(1,3), Point2(2,3), Point2(3,3)]\n",
      "Considering: [Point2(1,1), Point2(1,2), Point2(1,3), Point2(2,3), Point2(3,3), Point2(4,3)]\n",
      "Considering: [Point2(1,1), Point2(1,2), Point2(1,3), Point2(2,3), Point2(3,3), Point2(4,3), Point2(5,3)]\n",
      "Considering: [Point2(1,1), Point2(1,2), Point2(1,3), Point2(2,3), Point2(3,3), Point2(4,3), Point2(5,3), Point2(5,2)]\n",
      "Considering: [Point2(1,1), Point2(1,2), Point2(1,3), Point2(2,3), Point2(3,3), Point2(4,3), Point2(5,3), Point2(5,2), Point2(5,1)]\n",
      "Considering: [Point2(1,1), Point2(1,2), Point2(1,3), Point2(2,3), Point2(3,3), Point2(4,3), Point2(5,3), Point2(5,2), Point2(5,1), Point2(4,1)]\n",
      "Considering: [Point2(1,1), Point2(1,2), Point2(1,3), Point2(2,3), Point2(3,3), Point2(4,3), Point2(5,3), Point2(5,2), Point2(5,1), Point2(4,1), Point2(3,1)]\n",
      "GIVING UP ON: [Point2(1,1), Point2(1,2), Point2(1,3), Point2(2,3), Point2(3,3), Point2(4,3), Point2(5,3), Point2(5,2), Point2(5,1), Point2(4,1), Point2(3,1)]\n",
      "GIVING UP ON: [Point2(1,1), Point2(1,2), Point2(1,3), Point2(2,3), Point2(3,3), Point2(4,3), Point2(5,3), Point2(5,2), Point2(5,1), Point2(4,1)]\n",
      "GIVING UP ON: [Point2(1,1), Point2(1,2), Point2(1,3), Point2(2,3), Point2(3,3), Point2(4,3), Point2(5,3), Point2(5,2), Point2(5,1)]\n",
      "GIVING UP ON: [Point2(1,1), Point2(1,2), Point2(1,3), Point2(2,3), Point2(3,3), Point2(4,3), Point2(5,3), Point2(5,2)]\n",
      "GIVING UP ON: [Point2(1,1), Point2(1,2), Point2(1,3), Point2(2,3), Point2(3,3), Point2(4,3), Point2(5,3)]\n",
      "GIVING UP ON: [Point2(1,1), Point2(1,2), Point2(1,3), Point2(2,3), Point2(3,3), Point2(4,3)]\n",
      "Considering: [Point2(1,1), Point2(1,2), Point2(1,3), Point2(2,3), Point2(3,3), Point2(3,4)]\n",
      "Considering: [Point2(1,1), Point2(1,2), Point2(1,3), Point2(2,3), Point2(3,3), Point2(3,4), Point2(3,5)]\n",
      "Considering: [Point2(1,1), Point2(1,2), Point2(1,3), Point2(2,3), Point2(3,3), Point2(3,4), Point2(3,5), Point2(2,5)]\n",
      "Considering: [Point2(1,1), Point2(1,2), Point2(1,3), Point2(2,3), Point2(3,3), Point2(3,4), Point2(3,5), Point2(2,5), Point2(1,5)]\n",
      "GIVING UP ON: [Point2(1,1), Point2(1,2), Point2(1,3), Point2(2,3), Point2(3,3), Point2(3,4), Point2(3,5), Point2(2,5), Point2(1,5)]\n",
      "GIVING UP ON: [Point2(1,1), Point2(1,2), Point2(1,3), Point2(2,3), Point2(3,3), Point2(3,4), Point2(3,5), Point2(2,5)]\n",
      "Considering: [Point2(1,1), Point2(1,2), Point2(1,3), Point2(2,3), Point2(3,3), Point2(3,4), Point2(3,5), Point2(4,5)]\n",
      "Considering: [Point2(1,1), Point2(1,2), Point2(1,3), Point2(2,3), Point2(3,3), Point2(3,4), Point2(3,5), Point2(4,5), Point2(5,5)]\n"
     ]
    },
    {
     "data": {
      "text/plain": [
       "[Point2(1,1),\n",
       " Point2(1,2),\n",
       " Point2(1,3),\n",
       " Point2(2,3),\n",
       " Point2(3,3),\n",
       " Point2(3,4),\n",
       " Point2(3,5),\n",
       " Point2(4,5),\n",
       " Point2(5,5)]"
      ]
     },
     "execution_count": 7,
     "metadata": {},
     "output_type": "execute_result"
    }
   ],
   "source": [
    "solvemaze.depth_first_maze_solution(M,verbose=True)"
   ]
  },
  {
   "cell_type": "code",
   "execution_count": 18,
   "id": "3102db79",
   "metadata": {},
   "outputs": [],
   "source": [
    "M2 = maze.PrimRandomMaze(255,255)"
   ]
  },
  {
   "cell_type": "code",
   "execution_count": 14,
   "id": "743b5db4",
   "metadata": {},
   "outputs": [
    {
     "data": {
      "text/plain": [
       "[Point2(1,1),\n",
       " Point2(2,1),\n",
       " Point2(3,1),\n",
       " Point2(4,1),\n",
       " Point2(5,1),\n",
       " Point2(6,1),\n",
       " Point2(7,1),\n",
       " Point2(7,2),\n",
       " Point2(7,3),\n",
       " Point2(7,4),\n",
       " Point2(7,5),\n",
       " Point2(7,6),\n",
       " Point2(7,7),\n",
       " Point2(7,8),\n",
       " Point2(7,9),\n",
       " Point2(8,9),\n",
       " Point2(9,9),\n",
       " Point2(9,10),\n",
       " Point2(9,11),\n",
       " Point2(10,11),\n",
       " Point2(11,11),\n",
       " Point2(12,11),\n",
       " Point2(13,11),\n",
       " Point2(13,12),\n",
       " Point2(13,13),\n",
       " Point2(13,14),\n",
       " Point2(13,15),\n",
       " Point2(14,15),\n",
       " Point2(15,15),\n",
       " Point2(15,14),\n",
       " Point2(15,13),\n",
       " Point2(16,13),\n",
       " Point2(17,13),\n",
       " Point2(17,12),\n",
       " Point2(17,11),\n",
       " Point2(18,11),\n",
       " Point2(19,11),\n",
       " Point2(20,11),\n",
       " Point2(21,11),\n",
       " Point2(21,12),\n",
       " Point2(21,13),\n",
       " Point2(21,14),\n",
       " Point2(21,15),\n",
       " Point2(22,15),\n",
       " Point2(23,15),\n",
       " Point2(24,15),\n",
       " Point2(25,15),\n",
       " Point2(26,15),\n",
       " Point2(27,15),\n",
       " Point2(28,15),\n",
       " Point2(29,15)]"
      ]
     },
     "execution_count": 14,
     "metadata": {},
     "output_type": "execute_result"
    }
   ],
   "source": [
    "solvemaze.depth_first_maze_solution(M2)"
   ]
  },
  {
   "cell_type": "code",
   "execution_count": 20,
   "id": "5f5e838d",
   "metadata": {},
   "outputs": [],
   "source": [
    "M2.save_svg(\"maze2.svg\")"
   ]
  },
  {
   "cell_type": "code",
   "execution_count": 21,
   "id": "b45478dd",
   "metadata": {},
   "outputs": [],
   "source": [
    "soln = solvemaze.depth_first_maze_solution(M2)"
   ]
  },
  {
   "cell_type": "code",
   "execution_count": 22,
   "id": "b92241c6",
   "metadata": {},
   "outputs": [],
   "source": [
    "M2.save_svg(\"maze2_solved.svg\",highlight=soln)"
   ]
  },
  {
   "cell_type": "code",
   "execution_count": 23,
   "id": "f8bc085f",
   "metadata": {},
   "outputs": [],
   "source": [
    "M2.save_png(\"maze2_solved.png\",highlight=soln)"
   ]
  },
  {
   "cell_type": "code",
   "execution_count": 24,
   "id": "6861e351",
   "metadata": {},
   "outputs": [
    {
     "name": "stdout",
     "output_type": "stream",
     "text": [
      "Help on method save_png in module maze:\n",
      "\n",
      "save_png(fn, scale=1, highlight=[]) method of maze.PrimRandomMaze instance\n",
      "    Save maze to a PNG file (requires PIL or Pillow module).\n",
      "    If given, `highlight` is expected to be a list of `Point2`\n",
      "    objects that are locations in the maze to be highlighted in\n",
      "    blue.\n",
      "\n"
     ]
    }
   ],
   "source": [
    "help(M2.save_png)"
   ]
  },
  {
   "cell_type": "code",
   "execution_count": null,
   "id": "22209064",
   "metadata": {},
   "outputs": [],
   "source": []
  }
 ],
 "metadata": {
  "kernelspec": {
   "display_name": "Python 3 (ipykernel)",
   "language": "python",
   "name": "python3"
  },
  "language_info": {
   "codemirror_mode": {
    "name": "ipython",
    "version": 3
   },
   "file_extension": ".py",
   "mimetype": "text/x-python",
   "name": "python",
   "nbconvert_exporter": "python",
   "pygments_lexer": "ipython3",
   "version": "3.10.6"
  }
 },
 "nbformat": 4,
 "nbformat_minor": 5
}
