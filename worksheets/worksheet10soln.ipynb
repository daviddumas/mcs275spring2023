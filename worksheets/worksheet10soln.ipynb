{
 "cells": [
  {
   "cell_type": "markdown",
   "metadata": {},
   "source": [
    "# MCS 275 Spring 2023 Worksheet 10 Solutions\n",
    "\n",
    "* Course instructor: David Dumas\n",
    "* Contributors to this document: David Dumas, Kylash Viswanathan   "
   ]
  },
  {
   "cell_type": "markdown",
   "metadata": {},
   "source": [
    "## Topics\n",
    "\n",
    "This worksheet is about `numpy`.\n",
    "\n",
    "## Resources\n",
    "\n",
    "These things might be helpful while working on the problems.  Remember that for worksheets,  we don't strictly limit what resources you can consult, so these are only suggestions.\n",
    "\n",
    "* [VanderPlas](https://jakevdp.github.io/PythonDataScienceHandbook/):\n",
    "    * Chapter 2 covers numpy\n",
    "* [Course sample code repo](https://github.com/daviddumas/mcs275spring2023/blob/main/samplecode/)\n",
    "* [Lecture 22 - numpy](http://dumas.io/teaching/2023/spring/mcs275/slides/lecture22.html)\n",
    "* [Lecture 23 - numpy 2](http://dumas.io/teaching/2023/spring/mcs275/slides/lecture23.html)\n",
    "* [Lecture 24 - Julia sets](http://dumas.io/teaching/2023/spring/mcs275/slides/lecture24.html)\n",
    "* [Downey's book](https://greenteapress.com/thinkpython2/html/)"
   ]
  },
  {
   "cell_type": "markdown",
   "metadata": {},
   "source": [
    "## Notebook recommended\n",
    "\n",
    "I think you'll have the best experience with this worksheet if you do  your work in a Python notebook.\n",
    "\n",
    "Also, remember to install `numpy` (and `pillow`, if you haven't already).  For most people thse commands will do it:\n",
    "```text\n",
    "python3 -m pip install numpy\n",
    "python3 -m pip install pillow\n",
    "```"
   ]
  },
  {
   "cell_type": "markdown",
   "metadata": {},
   "source": [
    "## 1. Generate these arrays\n",
    "\n",
    "Try to find concise expressions that generate these numpy arrays, without using explicit loops and without listing all the elements out as literals.\n",
    "\n",
    "### A.\n",
    "```\n",
    "array([  4,   9,  16,  25,  36,  49,  64,  81, 100, 121])\n",
    "```\n",
    "\n",
    "\n",
    "### B.\n",
    "```\n",
    "array([ 0.2,  0.4,  0.6, -5. , -5. , -5. , -5. , -5. ,  1.8,  2. ,  2.2, 2.4,  2.6,  2.8,  3. ,  3.2,  3.4,  3.6])\n",
    "```\n",
    "### C.\n",
    "```\n",
    "array([[4., 3., 2., 1., 0., 1., 2., 3., 4.],\n",
    "       [4., 3., 2., 1., 0., 1., 2., 3., 4.],\n",
    "       [4., 3., 2., 1., 0., 1., 2., 3., 4.],\n",
    "       [4., 3., 2., 1., 0., 1., 2., 3., 4.],\n",
    "       [4., 3., 2., 1., 0., 1., 2., 3., 4.],\n",
    "       [4., 3., 2., 1., 0., 1., 2., 3., 4.],\n",
    "       [4., 3., 2., 1., 0., 1., 2., 3., 4.]])\n",
    "```\n",
    "\n",
    "\n",
    "### D.\n",
    "```\n",
    "array([[7, 0, 7, 7, 7, 7, 7, 7, 0, 7],\n",
    "       [0, 0, 0, 0, 0, 0, 0, 0, 0, 0],\n",
    "       [7, 0, 7, 7, 7, 7, 7, 7, 0, 7],\n",
    "       [7, 0, 7, 7, 7, 7, 7, 7, 0, 7],\n",
    "       [7, 0, 7, 7, 7, 7, 7, 7, 0, 7],\n",
    "       [7, 0, 7, 7, 7, 7, 7, 7, 0, 7],\n",
    "       [0, 0, 0, 0, 0, 0, 0, 0, 0, 0],\n",
    "       [7, 0, 7, 7, 7, 7, 7, 7, 0, 7]])\n",
    "```"
   ]
  },
  {
   "cell_type": "markdown",
   "metadata": {},
   "source": [
    "## Solutions"
   ]
  },
  {
   "cell_type": "markdown",
   "metadata": {},
   "source": [
    "### A."
   ]
  },
  {
   "cell_type": "code",
   "execution_count": 1,
   "metadata": {},
   "outputs": [
    {
     "data": {
      "text/plain": [
       "array([  4,   9,  16,  25,  36,  49,  64,  81, 100, 121])"
      ]
     },
     "execution_count": 1,
     "metadata": {},
     "output_type": "execute_result"
    }
   ],
   "source": [
    "import numpy as np\n",
    "A = np.array([i**2 for i in range(2,12)])\n",
    "A"
   ]
  },
  {
   "cell_type": "markdown",
   "metadata": {},
   "source": [
    "### B."
   ]
  },
  {
   "cell_type": "code",
   "execution_count": 2,
   "metadata": {},
   "outputs": [
    {
     "data": {
      "text/plain": [
       "array([ 0.2,  0.4,  0.6, -5. , -5. , -5. , -5. , -5. ,  1.8,  2. ,  2.2,\n",
       "        2.4,  2.6,  2.8,  3. ,  3.2,  3.4,  3.6])"
      ]
     },
     "execution_count": 2,
     "metadata": {},
     "output_type": "execute_result"
    }
   ],
   "source": [
    "B = np.arange(0.2,3.8,0.2)\n",
    "B[3:8] = -5\n",
    "B"
   ]
  },
  {
   "cell_type": "markdown",
   "metadata": {},
   "source": [
    "### C."
   ]
  },
  {
   "cell_type": "code",
   "execution_count": 3,
   "metadata": {},
   "outputs": [
    {
     "data": {
      "text/plain": [
       "array([[4., 3., 2., 1., 0., 1., 2., 3., 4.],\n",
       "       [4., 3., 2., 1., 0., 1., 2., 3., 4.],\n",
       "       [4., 3., 2., 1., 0., 1., 2., 3., 4.],\n",
       "       [4., 3., 2., 1., 0., 1., 2., 3., 4.],\n",
       "       [4., 3., 2., 1., 0., 1., 2., 3., 4.],\n",
       "       [4., 3., 2., 1., 0., 1., 2., 3., 4.],\n",
       "       [4., 3., 2., 1., 0., 1., 2., 3., 4.]])"
      ]
     },
     "execution_count": 3,
     "metadata": {},
     "output_type": "execute_result"
    }
   ],
   "source": [
    "C = np.abs(np.zeros((7,9)) + np.arange(-4,5))\n",
    "C"
   ]
  },
  {
   "cell_type": "markdown",
   "metadata": {},
   "source": [
    "### D."
   ]
  },
  {
   "cell_type": "code",
   "execution_count": 4,
   "metadata": {},
   "outputs": [
    {
     "data": {
      "text/plain": [
       "array([[7, 0, 7, 7, 7, 7, 7, 7, 0, 7],\n",
       "       [0, 0, 0, 0, 0, 0, 0, 0, 0, 0],\n",
       "       [7, 0, 7, 7, 7, 7, 7, 7, 0, 7],\n",
       "       [7, 0, 7, 7, 7, 7, 7, 7, 0, 7],\n",
       "       [7, 0, 7, 7, 7, 7, 7, 7, 0, 7],\n",
       "       [7, 0, 7, 7, 7, 7, 7, 7, 0, 7],\n",
       "       [0, 0, 0, 0, 0, 0, 0, 0, 0, 0],\n",
       "       [7, 0, 7, 7, 7, 7, 7, 7, 0, 7]])"
      ]
     },
     "execution_count": 4,
     "metadata": {},
     "output_type": "execute_result"
    }
   ],
   "source": [
    "D = np.full((8,10),7,dtype=\"int64\")\n",
    "D[1]=0\n",
    "D[-2]=0\n",
    "D[:,1]=0\n",
    "D[:,-2]=0\n",
    "D"
   ]
  },
  {
   "cell_type": "markdown",
   "metadata": {},
   "source": [
    "## 2. Numpy image processing\n",
    "\n",
    "Here is a grayscale photograph of an onion sitting on a wooden desk.\n",
    "\n",
    "* [ws10_grayscale_onion.png](ws10_grayscale_onion.png)\n",
    "\n",
    "![](images/ws10_grayscale_onion.png)\n",
    "\n",
    "In this problem, you'll work with the data from this image using numpy.  Last week, you did some image processing using `.getpixel` and `.putpixel` from Pillow, but converting the image to a numpy array and then analyzing the data using numpy is really a better approach in most cases.\n",
    "\n",
    "Here are two functions that will help with that: One loads a PNG image into a numpy array.  It requires numpy and PIL.  If the PNG image is grayscale, you'll get a 2-dimensional array whose dtype is `uint8`.  The other saves a 2-dimension numpy array with dtype `uint8` as a PNG image."
   ]
  },
  {
   "cell_type": "code",
   "execution_count": 74,
   "metadata": {},
   "outputs": [],
   "source": [
    "import PIL.Image\n",
    "import numpy as np\n",
    "\n",
    "def load_image_to_array(fn):\n",
    "    \"Open image file with name `fn` and return as a numpy array`\"\n",
    "    img = PIL.Image.open(fn)\n",
    "    return np.array(img)\n",
    "\n",
    "def save_array_to_image(fn,A):\n",
    "    \"Save 2D array `A` with dtype `uint8` to file named `fn`\"\n",
    "    assert A.ndim == 2\n",
    "    assert A.dtype == np.dtype(\"uint8\")\n",
    "    img = PIL.Image.fromarray(A)\n",
    "    img.save(fn)"
   ]
  },
  {
   "cell_type": "markdown",
   "metadata": {},
   "source": [
    "### A. Peak onion\n",
    "\n",
    "What row of the image has the largest average brightness?\n",
    "\n",
    "What column has the largest average brightness?\n",
    "\n",
    "What is the brightest color that appears in the image?  Where does it appear?"
   ]
  },
  {
   "cell_type": "markdown",
   "metadata": {},
   "source": [
    "## Solution"
   ]
  },
  {
   "cell_type": "code",
   "execution_count": 106,
   "metadata": {},
   "outputs": [],
   "source": [
    "# load the image, and obtain the dimensions.\n",
    "from PIL import Image\n",
    "onion = load_image_to_array(\"ws10_grayscale_onion.png\")\n",
    "im = Image.open('ws10_grayscale_onion.png')\n",
    "width,height = im.size"
   ]
  },
  {
   "cell_type": "markdown",
   "metadata": {},
   "source": [
    "### Row with the largest average brightness:"
   ]
  },
  {
   "cell_type": "code",
   "execution_count": 136,
   "metadata": {},
   "outputs": [
    {
     "data": {
      "text/plain": [
       "(array([0]),)"
      ]
     },
     "execution_count": 136,
     "metadata": {},
     "output_type": "execute_result"
    }
   ],
   "source": [
    "row_means = np.mean(onion, axis = 1) # obtains the means of the rows\n",
    "row_means.ravel() #flattens the row means\n",
    "np.where(row_means.ravel() == np.max(row_means))"
   ]
  },
  {
   "cell_type": "markdown",
   "metadata": {},
   "source": [
    "### Column with the largest average brightness"
   ]
  },
  {
   "cell_type": "code",
   "execution_count": 108,
   "metadata": {},
   "outputs": [
    {
     "data": {
      "text/plain": [
       "array([270])"
      ]
     },
     "execution_count": 108,
     "metadata": {},
     "output_type": "execute_result"
    }
   ],
   "source": [
    "col_means = np.mean(onion, axis = 0) # obtains the means of the columns\n",
    "col_means.ravel() # flattens the column means\n",
    "np.where(col_means.ravel() == np.max(col_means))[0]"
   ]
  },
  {
   "cell_type": "markdown",
   "metadata": {},
   "source": [
    "### Brightest color that appears in the image and Location"
   ]
  },
  {
   "cell_type": "code",
   "execution_count": 140,
   "metadata": {},
   "outputs": [
    {
     "name": "stdout",
     "output_type": "stream",
     "text": [
      "Indices of brightest color 123 259\n",
      "Brightest color 254\n"
     ]
    },
    {
     "data": {
      "text/plain": [
       "True"
      ]
     },
     "execution_count": 140,
     "metadata": {},
     "output_type": "execute_result"
    }
   ],
   "source": [
    "# Obtain index of maximium value\n",
    "index = np.argmax(onion)\n",
    "# Obtain the corresponding row and column\n",
    "max_row = np.argmax(onion) // width\n",
    "max_col = np.argmax(onion) % height\n",
    "print(\"Indices of brightest color\", max_row,max_col)\n",
    "print(\"Brightest color\", onion[max_row][max_col])\n",
    "#Confirm that this is the true maximum\n",
    "onion[max_row][max_col] == onion.ravel()[index]"
   ]
  },
  {
   "cell_type": "markdown",
   "metadata": {},
   "source": [
    "### B. Horizontal average\n",
    "\n",
    "Create a new grayscale image file `ws10_grayscale_onion_colavg.png` with the same dimensions as the original image, but where each column is filled with a solid color that is as close as possible to the average brightness of the coresponding column of the original image.  The result should look like this:\n",
    "![](images/ws10_grayscale_onion_colavg.png)\n",
    "\n",
    "**Hint:** If you have an array of floats you can convert them to an array of `uint8` values using the method call `.astype(\"uint8\")`."
   ]
  },
  {
   "cell_type": "markdown",
   "metadata": {},
   "source": [
    "## Solution"
   ]
  },
  {
   "cell_type": "code",
   "execution_count": 142,
   "metadata": {},
   "outputs": [],
   "source": [
    "A = np.zeros((height, width), dtype= \"uint8\")\n",
    "for x in range(height):\n",
    "    for y in range(width):\n",
    "        A[x][y] = col_means.ravel()[y].astype(\"uint8\")\n",
    "save_array_to_image(\"ws10_grayscale_onion_colavg.png\",A.astype(\"uint8\"))"
   ]
  },
  {
   "cell_type": "markdown",
   "metadata": {},
   "source": [
    "### C. Vertical average\n",
    "\n",
    "Create a new grayscale image file `ws10_grayscale_onion_rowavg.png` with the same dimensions as the original image, but where each row is filled with a solid color that is as close as possible to the average brightness of the coresponding row of the original image.  The result should look like this:\n",
    "![](images/ws10_grayscale_onion_rowavg.png)"
   ]
  },
  {
   "cell_type": "markdown",
   "metadata": {},
   "source": [
    "## Solution"
   ]
  },
  {
   "cell_type": "code",
   "execution_count": 141,
   "metadata": {},
   "outputs": [],
   "source": [
    "A = np.zeros((height, width), dtype= \"uint8\")\n",
    "for y in range(width):\n",
    "    for x in range(height):\n",
    "        A[x][y] = row_means.ravel()[x].astype(\"uint8\")\n",
    "save_array_to_image(\"ws10_grayscale_onion_rowavg.png\",A.astype(\"uint8\"))"
   ]
  },
  {
   "cell_type": "markdown",
   "metadata": {},
   "source": [
    "### D. Gamma adjust\n",
    "\n",
    "If you divide a grayscale image array by $255.0$, you get an array of floats between $0.0$ and $1.0$.  If you raise those floats to a power $\\gamma$ (usually chosen to be near $1$) and then multiply by $255.0$ again, the resulting image will be \"gamma adjusted\" by exponent $\\gamma$.  Of course if $\\gamma=1$ you just get the original image back again.\n",
    "\n",
    "Apply this process to the onion photo with for each of these values of $\\gamma$:\n",
    "* 0.25\n",
    "* 0.7\n",
    "* 1.0\n",
    "* 1.2\n",
    "* 1.4\n",
    "* 2\n",
    "* 5\n",
    "\n",
    "How would you explain the qualitative effect of changing $\\gamma$?"
   ]
  },
  {
   "cell_type": "markdown",
   "metadata": {},
   "source": [
    "## Solution\n",
    "\n",
    "The exponent below can be adjusted to change $\\gamma$. Note that $\\gamma=2$ as shown below. The effect of $\\gamma$ is to e\n",
    "emphasize contrasts in the image"
   ]
  },
  {
   "cell_type": "code",
   "execution_count": 122,
   "metadata": {},
   "outputs": [
    {
     "data": {
      "image/png": "[encoded data removed]",
      "text/plain": [
       "<PIL.Image.Image image mode=L size=400x300 at 0x7F80C85FBD60>"
      ]
     },
     "execution_count": 122,
     "metadata": {},
     "output_type": "execute_result"
    }
   ],
   "source": [
    "PIL.Image.fromarray((((onion/255.0)**2)*255.0).astype(\"uint8\"))"
   ]
  },
  {
   "cell_type": "markdown",
   "metadata": {},
   "source": [
    "## 3. Riemann Sum\n",
    "\n",
    "The area under one \"hump\" of the sine function is exactly 2, i.e.\n",
    "$$\n",
    "\\int_0^\\pi \\sin(x) \\, dx = 2\n",
    "$$\n",
    "\n",
    "For any positive integer `n`, that integral can be approximated by dividing the interval $[0,\\pi]$ into `n` equal parts and forming a left-endpoint Riemann sum, whereby the area is approximated by a union of `n` rectangles.  This is shown below for `n=12`:\n",
    "\n",
    "![](images/ws10_riemann.png)\n",
    "\n",
    "Here's a function that computes the Riemann sum naively, using Python for loops:"
   ]
  },
  {
   "cell_type": "code",
   "execution_count": 127,
   "metadata": {},
   "outputs": [],
   "source": [
    "import math\n",
    "import time\n",
    "def naive_rs(n):\n",
    "    \"\"\"\n",
    "    Riemann sum for sin(x) on [0,pi] computed without numpy\n",
    "    and without any concern for accumulating errors when you\n",
    "    sum many small floats. (TODO: Learn numerical analysis!)\n",
    "    \"\"\"\n",
    "    hsum = 0.0\n",
    "    for i in range(n):\n",
    "        hsum += math.sin(math.pi*(i/n)) # Add a rectangle height\n",
    "    return hsum * (math.pi/n) # Multiply sum of heights by width"
   ]
  },
  {
   "cell_type": "markdown",
   "metadata": {},
   "source": [
    "As we can see, the return value gets quite close to 2 as we increase `n`."
   ]
  },
  {
   "cell_type": "code",
   "execution_count": 128,
   "metadata": {},
   "outputs": [
    {
     "data": {
      "text/plain": [
       "1.8137993642342178"
      ]
     },
     "execution_count": 128,
     "metadata": {},
     "output_type": "execute_result"
    }
   ],
   "source": [
    "naive_rs(3)"
   ]
  },
  {
   "cell_type": "code",
   "execution_count": 129,
   "metadata": {},
   "outputs": [
    {
     "data": {
      "text/plain": [
       "1.933765598092805"
      ]
     },
     "execution_count": 129,
     "metadata": {},
     "output_type": "execute_result"
    }
   ],
   "source": [
    "naive_rs(5)"
   ]
  },
  {
   "cell_type": "code",
   "execution_count": 130,
   "metadata": {},
   "outputs": [
    {
     "data": {
      "text/plain": [
       "1.999999999999953"
      ]
     },
     "execution_count": 130,
     "metadata": {},
     "output_type": "execute_result"
    }
   ],
   "source": [
    "naive_rs(5_000_000)"
   ]
  },
  {
   "cell_type": "markdown",
   "metadata": {},
   "source": [
    "However, for large values of `n` this function is quite slow.  (Try `n=5_000_000` or `n=20_000_000` for example.)\n",
    "\n",
    "Write a function `numpy_rs(n)` that makes an equivalent computation using numpy to avoid explicit iteration.\n",
    "\n",
    "Check that `numpy_rs(n)` and `naive_rs(n)` return values that are extremely close for small values of `n`.  (They can't be expected to necessarily agree exactly, as floating point addition is not associative.)\n",
    "\n",
    "Then compare the speed of `numpy_rs(n)` and `naive_rs(n)` for large values of `n`.  (For this problem, let's say a value of `n` is \"large\" if the slower of the two calculations takes at least half a second.)\n",
    "\n",
    "**Hints**: You won't need the `math` module at all in the numpy solution.  There's a constant called `np.pi` that is equal to $\\pi$.  The solution won't contain any loops."
   ]
  },
  {
   "cell_type": "markdown",
   "metadata": {},
   "source": [
    "### Solution"
   ]
  },
  {
   "cell_type": "code",
   "execution_count": 131,
   "metadata": {},
   "outputs": [],
   "source": [
    "def numpy_rs(n):\n",
    "    \"Riemann sum for sin(x) on [0,pi] with numpy\"\n",
    "    return np.sum(np.sin(np.pi*np.linspace(0,1,n+1)))*np.pi/n"
   ]
  },
  {
   "cell_type": "code",
   "execution_count": 132,
   "metadata": {},
   "outputs": [
    {
     "name": "stdout",
     "output_type": "stream",
     "text": [
      "0.12428903579711914\n"
     ]
    }
   ],
   "source": [
    "# Implementation of numpy's integration via Riemann Sums\n",
    "t0 = time.time()\n",
    "numpy_rs(5_000_000)\n",
    "print(time.time()-t0)"
   ]
  },
  {
   "cell_type": "code",
   "execution_count": 133,
   "metadata": {},
   "outputs": [
    {
     "name": "stdout",
     "output_type": "stream",
     "text": [
      "0.8508999347686768\n"
     ]
    }
   ],
   "source": [
    "# Implementation of naive integration via Riemann Sums\n",
    "t0 = time.time()\n",
    "naive_rs(5_000_000)\n",
    "print(time.time()-t0)"
   ]
  },
  {
   "cell_type": "markdown",
   "metadata": {},
   "source": [
    "For a moderately sized integration, the numpy version performs nearly 7 times faster"
   ]
  },
  {
   "cell_type": "markdown",
   "metadata": {},
   "source": [
    "## Extra challenge\n",
    "\n",
    "If you have extra time: Generalize `numpy_rs(n)` to a function `numpy_rs(f,a,b,n)` which takes a function `f`, interval endpoints `a` and `b`, and a number of rectangles `n`, and computes the Riemann sum approximation of $\\int_a^b f(x) \\,dx$ using `numpy`.  Assume `f` is a numpy `ufunc`, so it can be applied directly to an array."
   ]
  },
  {
   "cell_type": "markdown",
   "metadata": {},
   "source": [
    "### Revision history\n",
    "\n",
    "* 2023-03-14 - Initial publication"
   ]
  }
 ],
 "metadata": {
  "kernelspec": {
   "display_name": "Python 3 (ipykernel)",
   "language": "python",
   "name": "python3"
  },
  "language_info": {
   "codemirror_mode": {
    "name": "ipython",
    "version": 3
   },
   "file_extension": ".py",
   "mimetype": "text/x-python",
   "name": "python",
   "nbconvert_exporter": "python",
   "pygments_lexer": "ipython3",
   "version": "3.9.7"
  }
 },
 "nbformat": 4,
 "nbformat_minor": 4
}
